{
 "cells": [
  {
   "cell_type": "code",
   "execution_count": 1,
   "metadata": {},
   "outputs": [],
   "source": [
    "import pandas as pd\n",
    "import numpy as np\n",
    "import matplotlib.pyplot as plt\n",
    "from mpl_toolkits.mplot3d import Axes3D"
   ]
  },
  {
   "cell_type": "markdown",
   "metadata": {},
   "source": [
    "# Question 1"
   ]
  },
  {
   "cell_type": "code",
   "execution_count": 337,
   "metadata": {},
   "outputs": [
    {
     "data": {
      "text/html": [
       "<div>\n",
       "<style scoped>\n",
       "    .dataframe tbody tr th:only-of-type {\n",
       "        vertical-align: middle;\n",
       "    }\n",
       "\n",
       "    .dataframe tbody tr th {\n",
       "        vertical-align: top;\n",
       "    }\n",
       "\n",
       "    .dataframe thead th {\n",
       "        text-align: right;\n",
       "    }\n",
       "</style>\n",
       "<table border=\"1\" class=\"dataframe\">\n",
       "  <thead>\n",
       "    <tr style=\"text-align: right;\">\n",
       "      <th></th>\n",
       "      <th>Contract</th>\n",
       "      <th>Futures</th>\n",
       "    </tr>\n",
       "    <tr>\n",
       "      <th>SettlementDate</th>\n",
       "      <th></th>\n",
       "      <th></th>\n",
       "    </tr>\n",
       "  </thead>\n",
       "  <tbody>\n",
       "    <tr>\n",
       "      <th>2019-11-20</th>\n",
       "      <td>Dec 2019</td>\n",
       "      <td>56.23</td>\n",
       "    </tr>\n",
       "    <tr>\n",
       "      <th>2019-12-19</th>\n",
       "      <td>Jan 2020</td>\n",
       "      <td>56.27</td>\n",
       "    </tr>\n",
       "    <tr>\n",
       "      <th>2020-01-21</th>\n",
       "      <td>Feb 2020</td>\n",
       "      <td>56.1</td>\n",
       "    </tr>\n",
       "    <tr>\n",
       "      <th>2020-02-20</th>\n",
       "      <td>Mar 2020</td>\n",
       "      <td>55.86</td>\n",
       "    </tr>\n",
       "    <tr>\n",
       "      <th>2020-03-20</th>\n",
       "      <td>Apr 2020</td>\n",
       "      <td>55.44</td>\n",
       "    </tr>\n",
       "    <tr>\n",
       "      <th>2020-04-21</th>\n",
       "      <td>May 2020</td>\n",
       "      <td>55.08</td>\n",
       "    </tr>\n",
       "    <tr>\n",
       "      <th>2020-05-19</th>\n",
       "      <td>Jun 2020</td>\n",
       "      <td>54.7</td>\n",
       "    </tr>\n",
       "    <tr>\n",
       "      <th>2020-06-22</th>\n",
       "      <td>Jul 2020</td>\n",
       "      <td>54.29</td>\n",
       "    </tr>\n",
       "    <tr>\n",
       "      <th>2020-07-21</th>\n",
       "      <td>Aug 2020</td>\n",
       "      <td>54.01</td>\n",
       "    </tr>\n",
       "    <tr>\n",
       "      <th>2020-08-20</th>\n",
       "      <td>Sep 2020</td>\n",
       "      <td>53.62</td>\n",
       "    </tr>\n",
       "    <tr>\n",
       "      <th>2020-09-22</th>\n",
       "      <td>Oct 2020</td>\n",
       "      <td>53.08</td>\n",
       "    </tr>\n",
       "    <tr>\n",
       "      <th>2020-10-20</th>\n",
       "      <td>Nov 2020</td>\n",
       "      <td>53.42</td>\n",
       "    </tr>\n",
       "    <tr>\n",
       "      <th>2020-11-20</th>\n",
       "      <td>Dec 2020</td>\n",
       "      <td>53.02</td>\n",
       "    </tr>\n",
       "    <tr>\n",
       "      <th>2021-12-21</th>\n",
       "      <td>Jan 2021</td>\n",
       "      <td>52.17</td>\n",
       "    </tr>\n",
       "    <tr>\n",
       "      <th>2021-05-20</th>\n",
       "      <td>Jun 2021</td>\n",
       "      <td>52.18</td>\n",
       "    </tr>\n",
       "    <tr>\n",
       "      <th>2021-11-19</th>\n",
       "      <td>Dec 2021</td>\n",
       "      <td>51.75</td>\n",
       "    </tr>\n",
       "    <tr>\n",
       "      <th>2022-11-21</th>\n",
       "      <td>Dec 2022</td>\n",
       "      <td>51.64</td>\n",
       "    </tr>\n",
       "    <tr>\n",
       "      <th>2023-11-20</th>\n",
       "      <td>Dec 2023</td>\n",
       "      <td>51.83</td>\n",
       "    </tr>\n",
       "    <tr>\n",
       "      <th>2024-05-21</th>\n",
       "      <td>Jun 2024</td>\n",
       "      <td>51.45</td>\n",
       "    </tr>\n",
       "  </tbody>\n",
       "</table>\n",
       "</div>"
      ],
      "text/plain": [
       "                Contract Futures\n",
       "SettlementDate                  \n",
       "2019-11-20      Dec 2019   56.23\n",
       "2019-12-19      Jan 2020   56.27\n",
       "2020-01-21      Feb 2020    56.1\n",
       "2020-02-20      Mar 2020   55.86\n",
       "2020-03-20      Apr 2020   55.44\n",
       "2020-04-21      May 2020   55.08\n",
       "2020-05-19      Jun 2020    54.7\n",
       "2020-06-22      Jul 2020   54.29\n",
       "2020-07-21      Aug 2020   54.01\n",
       "2020-08-20      Sep 2020   53.62\n",
       "2020-09-22      Oct 2020   53.08\n",
       "2020-10-20      Nov 2020   53.42\n",
       "2020-11-20      Dec 2020   53.02\n",
       "2021-12-21      Jan 2021   52.17\n",
       "2021-05-20      Jun 2021   52.18\n",
       "2021-11-19      Dec 2021   51.75\n",
       "2022-11-21      Dec 2022   51.64\n",
       "2023-11-20      Dec 2023   51.83\n",
       "2024-05-21      Jun 2024   51.45"
      ]
     },
     "execution_count": 337,
     "metadata": {},
     "output_type": "execute_result"
    }
   ],
   "source": [
    "data = np.array([['Dec 2019', '20191120', 56.23], ['Jan 2020', '20191219', 56.27], ['Feb 2020', '20200121', 56.10], ['Mar 2020', '20200220', 55.86],\n",
    "                 ['Apr 2020', '20200320', 55.44], ['May 2020', '20200421', 55.08], ['Jun 2020', '20200519', 54.70], ['Jul 2020', '20200622', 54.29], \n",
    "                 ['Aug 2020', '20200721', 54.01], ['Sep 2020', '20200820', 53.62], ['Oct 2020', '20200922', 53.08], ['Nov 2020', '20201020', 53.42], \n",
    "                 ['Dec 2020', '20201120', 53.02],  ['Jan 2021', '20211221', 52.17], ['Jun 2021', '20210520', 52.18], ['Dec 2021', '20211119', 51.75], \n",
    "                 ['Dec 2022', '20221121', 51.64], ['Dec 2023', '20231120', 51.83], ['Jun 2024', '20240521', 51.45]])\n",
    "data = pd.DataFrame(data,columns=['Contract', 'SettlementDate', 'Futures'])\n",
    "data.set_index(\"SettlementDate\", inplace=True)\n",
    "data.index = pd.to_datetime(data.index, format='%Y%m%d')\n",
    "data"
   ]
  },
  {
   "cell_type": "code",
   "execution_count": 338,
   "metadata": {},
   "outputs": [],
   "source": [
    "# import the feds200628.csv data\n",
    "zero_cou = pd.read_csv('zerocoupon.csv')\n",
    "zero_cou.set_index(\"Date\", inplace=True)\n",
    "zero_cou.index = pd.to_datetime(zero_cou.index)"
   ]
  },
  {
   "cell_type": "code",
   "execution_count": 339,
   "metadata": {},
   "outputs": [],
   "source": [
    "# zero-coupon bond function\n",
    "firstday = pd.Timestamp('2019-10-25')\n",
    "calcu = zero_cou[firstday:firstday]\n",
    "beta0 = calcu.BETA0.values\n",
    "beta1 = calcu.BETA1.values\n",
    "beta2 = calcu.BETA2.values\n",
    "beta3 = calcu.BETA3.values\n",
    "tau1 = calcu.TAU1.values\n",
    "tau2 = calcu.TAU2.values\n",
    "def Bond(n):\n",
    "    return beta0 + beta1 * (1 - np.exp(-n/tau1)) / (n/tau1) + beta2 * ((1 - np.exp(-n/tau1)) / (n/tau1) - np.exp(-n/tau1)) \\\n",
    "            + beta3 * ((1 - np.exp(-n/tau2)) / (n/tau2) - np.exp(-n/tau2))"
   ]
  },
  {
   "cell_type": "code",
   "execution_count": 340,
   "metadata": {},
   "outputs": [
    {
     "data": {
      "text/html": [
       "<div>\n",
       "<style scoped>\n",
       "    .dataframe tbody tr th:only-of-type {\n",
       "        vertical-align: middle;\n",
       "    }\n",
       "\n",
       "    .dataframe tbody tr th {\n",
       "        vertical-align: top;\n",
       "    }\n",
       "\n",
       "    .dataframe thead th {\n",
       "        text-align: right;\n",
       "    }\n",
       "</style>\n",
       "<table border=\"1\" class=\"dataframe\">\n",
       "  <thead>\n",
       "    <tr style=\"text-align: right;\">\n",
       "      <th></th>\n",
       "      <th>Contract</th>\n",
       "      <th>Futures</th>\n",
       "      <th>T</th>\n",
       "      <th>Bt</th>\n",
       "    </tr>\n",
       "    <tr>\n",
       "      <th>SettlementDate</th>\n",
       "      <th></th>\n",
       "      <th></th>\n",
       "      <th></th>\n",
       "      <th></th>\n",
       "    </tr>\n",
       "  </thead>\n",
       "  <tbody>\n",
       "    <tr>\n",
       "      <th>2019-11-20</th>\n",
       "      <td>Dec 2019</td>\n",
       "      <td>56.23</td>\n",
       "      <td>0.103175</td>\n",
       "      <td>1.711965</td>\n",
       "    </tr>\n",
       "    <tr>\n",
       "      <th>2019-12-19</th>\n",
       "      <td>Jan 2020</td>\n",
       "      <td>56.27</td>\n",
       "      <td>0.218254</td>\n",
       "      <td>1.706028</td>\n",
       "    </tr>\n",
       "    <tr>\n",
       "      <th>2020-01-21</th>\n",
       "      <td>Feb 2020</td>\n",
       "      <td>56.1</td>\n",
       "      <td>0.349206</td>\n",
       "      <td>1.699603</td>\n",
       "    </tr>\n",
       "    <tr>\n",
       "      <th>2020-02-20</th>\n",
       "      <td>Mar 2020</td>\n",
       "      <td>55.86</td>\n",
       "      <td>0.468254</td>\n",
       "      <td>1.694063</td>\n",
       "    </tr>\n",
       "    <tr>\n",
       "      <th>2020-03-20</th>\n",
       "      <td>Apr 2020</td>\n",
       "      <td>55.44</td>\n",
       "      <td>0.583333</td>\n",
       "      <td>1.688974</td>\n",
       "    </tr>\n",
       "    <tr>\n",
       "      <th>2020-04-21</th>\n",
       "      <td>May 2020</td>\n",
       "      <td>55.08</td>\n",
       "      <td>0.710317</td>\n",
       "      <td>1.683657</td>\n",
       "    </tr>\n",
       "    <tr>\n",
       "      <th>2020-05-19</th>\n",
       "      <td>Jun 2020</td>\n",
       "      <td>54.7</td>\n",
       "      <td>0.821429</td>\n",
       "      <td>1.679256</td>\n",
       "    </tr>\n",
       "    <tr>\n",
       "      <th>2020-06-22</th>\n",
       "      <td>Jul 2020</td>\n",
       "      <td>54.29</td>\n",
       "      <td>0.956349</td>\n",
       "      <td>1.674221</td>\n",
       "    </tr>\n",
       "    <tr>\n",
       "      <th>2020-07-21</th>\n",
       "      <td>Aug 2020</td>\n",
       "      <td>54.01</td>\n",
       "      <td>1.071429</td>\n",
       "      <td>1.670189</td>\n",
       "    </tr>\n",
       "    <tr>\n",
       "      <th>2020-08-20</th>\n",
       "      <td>Sep 2020</td>\n",
       "      <td>53.62</td>\n",
       "      <td>1.190476</td>\n",
       "      <td>1.666267</td>\n",
       "    </tr>\n",
       "    <tr>\n",
       "      <th>2020-09-22</th>\n",
       "      <td>Oct 2020</td>\n",
       "      <td>53.08</td>\n",
       "      <td>1.321429</td>\n",
       "      <td>1.662239</td>\n",
       "    </tr>\n",
       "    <tr>\n",
       "      <th>2020-10-20</th>\n",
       "      <td>Nov 2020</td>\n",
       "      <td>53.42</td>\n",
       "      <td>1.432540</td>\n",
       "      <td>1.659053</td>\n",
       "    </tr>\n",
       "    <tr>\n",
       "      <th>2020-11-20</th>\n",
       "      <td>Dec 2020</td>\n",
       "      <td>53.02</td>\n",
       "      <td>1.555556</td>\n",
       "      <td>1.655766</td>\n",
       "    </tr>\n",
       "    <tr>\n",
       "      <th>2021-12-21</th>\n",
       "      <td>Jan 2021</td>\n",
       "      <td>52.17</td>\n",
       "      <td>3.126984</td>\n",
       "      <td>1.633935</td>\n",
       "    </tr>\n",
       "    <tr>\n",
       "      <th>2021-05-20</th>\n",
       "      <td>Jun 2021</td>\n",
       "      <td>52.18</td>\n",
       "      <td>2.273810</td>\n",
       "      <td>1.641381</td>\n",
       "    </tr>\n",
       "    <tr>\n",
       "      <th>2021-11-19</th>\n",
       "      <td>Dec 2021</td>\n",
       "      <td>51.75</td>\n",
       "      <td>3.000000</td>\n",
       "      <td>1.634436</td>\n",
       "    </tr>\n",
       "    <tr>\n",
       "      <th>2022-11-21</th>\n",
       "      <td>Dec 2022</td>\n",
       "      <td>51.64</td>\n",
       "      <td>4.456349</td>\n",
       "      <td>1.639795</td>\n",
       "    </tr>\n",
       "    <tr>\n",
       "      <th>2023-11-20</th>\n",
       "      <td>Dec 2023</td>\n",
       "      <td>51.83</td>\n",
       "      <td>5.900794</td>\n",
       "      <td>1.665171</td>\n",
       "    </tr>\n",
       "    <tr>\n",
       "      <th>2024-05-21</th>\n",
       "      <td>Jun 2024</td>\n",
       "      <td>51.45</td>\n",
       "      <td>6.626984</td>\n",
       "      <td>1.683732</td>\n",
       "    </tr>\n",
       "  </tbody>\n",
       "</table>\n",
       "</div>"
      ],
      "text/plain": [
       "                Contract Futures         T        Bt\n",
       "SettlementDate                                      \n",
       "2019-11-20      Dec 2019   56.23  0.103175  1.711965\n",
       "2019-12-19      Jan 2020   56.27  0.218254  1.706028\n",
       "2020-01-21      Feb 2020    56.1  0.349206  1.699603\n",
       "2020-02-20      Mar 2020   55.86  0.468254  1.694063\n",
       "2020-03-20      Apr 2020   55.44  0.583333  1.688974\n",
       "2020-04-21      May 2020   55.08  0.710317  1.683657\n",
       "2020-05-19      Jun 2020    54.7  0.821429  1.679256\n",
       "2020-06-22      Jul 2020   54.29  0.956349  1.674221\n",
       "2020-07-21      Aug 2020   54.01  1.071429  1.670189\n",
       "2020-08-20      Sep 2020   53.62  1.190476  1.666267\n",
       "2020-09-22      Oct 2020   53.08  1.321429  1.662239\n",
       "2020-10-20      Nov 2020   53.42  1.432540  1.659053\n",
       "2020-11-20      Dec 2020   53.02  1.555556  1.655766\n",
       "2021-12-21      Jan 2021   52.17  3.126984  1.633935\n",
       "2021-05-20      Jun 2021   52.18  2.273810  1.641381\n",
       "2021-11-19      Dec 2021   51.75  3.000000  1.634436\n",
       "2022-11-21      Dec 2022   51.64  4.456349  1.639795\n",
       "2023-11-20      Dec 2023   51.83  5.900794  1.665171\n",
       "2024-05-21      Jun 2024   51.45  6.626984  1.683732"
      ]
     },
     "execution_count": 340,
     "metadata": {},
     "output_type": "execute_result"
    }
   ],
   "source": [
    "import pandas_market_calendars as mcal\n",
    "# Create a calendar to calculate T for each contract\n",
    "nyse = mcal.get_calendar('NYSE')\n",
    "T = []\n",
    "for a in range(0, len(data)):\n",
    "    t  = (nyse.valid_days(start_date=firstday, end_date=data.index[a])[-1] - nyse.valid_days(start_date=firstday, end_date=data.index[a])[0]).days\n",
    "    T.append(t)\n",
    "data['T'] = T\n",
    "data['T'] = data['T'] / 252\n",
    "data['Bt'] = Bond(data['T'])\n",
    "data"
   ]
  },
  {
   "cell_type": "code",
   "execution_count": 341,
   "metadata": {},
   "outputs": [
    {
     "data": {
      "text/html": [
       "<div>\n",
       "<style scoped>\n",
       "    .dataframe tbody tr th:only-of-type {\n",
       "        vertical-align: middle;\n",
       "    }\n",
       "\n",
       "    .dataframe tbody tr th {\n",
       "        vertical-align: top;\n",
       "    }\n",
       "\n",
       "    .dataframe thead th {\n",
       "        text-align: right;\n",
       "    }\n",
       "</style>\n",
       "<table border=\"1\" class=\"dataframe\">\n",
       "  <thead>\n",
       "    <tr style=\"text-align: right;\">\n",
       "      <th></th>\n",
       "      <th>Contract</th>\n",
       "      <th>Futures</th>\n",
       "      <th>T</th>\n",
       "      <th>Bt</th>\n",
       "      <th>FB</th>\n",
       "      <th>ratio_FB</th>\n",
       "    </tr>\n",
       "    <tr>\n",
       "      <th>SettlementDate</th>\n",
       "      <th></th>\n",
       "      <th></th>\n",
       "      <th></th>\n",
       "      <th></th>\n",
       "      <th></th>\n",
       "      <th></th>\n",
       "    </tr>\n",
       "  </thead>\n",
       "  <tbody>\n",
       "    <tr>\n",
       "      <th>2019-11-20</th>\n",
       "      <td>Dec 2019</td>\n",
       "      <td>56.23</td>\n",
       "      <td>0.103175</td>\n",
       "      <td>1.711965</td>\n",
       "      <td>96.263801</td>\n",
       "      <td>0.000000</td>\n",
       "    </tr>\n",
       "    <tr>\n",
       "      <th>2019-12-19</th>\n",
       "      <td>Jan 2020</td>\n",
       "      <td>56.27</td>\n",
       "      <td>0.218254</td>\n",
       "      <td>1.706028</td>\n",
       "      <td>95.998176</td>\n",
       "      <td>1.002767</td>\n",
       "    </tr>\n",
       "    <tr>\n",
       "      <th>2020-01-21</th>\n",
       "      <td>Feb 2020</td>\n",
       "      <td>56.10</td>\n",
       "      <td>0.349206</td>\n",
       "      <td>1.699603</td>\n",
       "      <td>95.347729</td>\n",
       "      <td>1.006822</td>\n",
       "    </tr>\n",
       "    <tr>\n",
       "      <th>2020-02-20</th>\n",
       "      <td>Mar 2020</td>\n",
       "      <td>55.86</td>\n",
       "      <td>0.468254</td>\n",
       "      <td>1.694063</td>\n",
       "      <td>94.630353</td>\n",
       "      <td>1.007581</td>\n",
       "    </tr>\n",
       "    <tr>\n",
       "      <th>2020-03-20</th>\n",
       "      <td>Apr 2020</td>\n",
       "      <td>55.44</td>\n",
       "      <td>0.583333</td>\n",
       "      <td>1.688974</td>\n",
       "      <td>93.636719</td>\n",
       "      <td>1.010612</td>\n",
       "    </tr>\n",
       "    <tr>\n",
       "      <th>2020-04-21</th>\n",
       "      <td>May 2020</td>\n",
       "      <td>55.08</td>\n",
       "      <td>0.710317</td>\n",
       "      <td>1.683657</td>\n",
       "      <td>92.735816</td>\n",
       "      <td>1.009715</td>\n",
       "    </tr>\n",
       "    <tr>\n",
       "      <th>2020-05-19</th>\n",
       "      <td>Jun 2020</td>\n",
       "      <td>54.70</td>\n",
       "      <td>0.821429</td>\n",
       "      <td>1.679256</td>\n",
       "      <td>91.855293</td>\n",
       "      <td>1.009586</td>\n",
       "    </tr>\n",
       "    <tr>\n",
       "      <th>2020-06-22</th>\n",
       "      <td>Jul 2020</td>\n",
       "      <td>54.29</td>\n",
       "      <td>0.956349</td>\n",
       "      <td>1.674221</td>\n",
       "      <td>90.893451</td>\n",
       "      <td>1.010582</td>\n",
       "    </tr>\n",
       "    <tr>\n",
       "      <th>2020-07-21</th>\n",
       "      <td>Aug 2020</td>\n",
       "      <td>54.01</td>\n",
       "      <td>1.071429</td>\n",
       "      <td>1.670189</td>\n",
       "      <td>90.206903</td>\n",
       "      <td>1.007611</td>\n",
       "    </tr>\n",
       "    <tr>\n",
       "      <th>2020-08-20</th>\n",
       "      <td>Sep 2020</td>\n",
       "      <td>53.62</td>\n",
       "      <td>1.190476</td>\n",
       "      <td>1.666267</td>\n",
       "      <td>89.345237</td>\n",
       "      <td>1.009644</td>\n",
       "    </tr>\n",
       "    <tr>\n",
       "      <th>2020-09-22</th>\n",
       "      <td>Oct 2020</td>\n",
       "      <td>53.08</td>\n",
       "      <td>1.321429</td>\n",
       "      <td>1.662239</td>\n",
       "      <td>88.231671</td>\n",
       "      <td>1.012621</td>\n",
       "    </tr>\n",
       "    <tr>\n",
       "      <th>2020-10-20</th>\n",
       "      <td>Nov 2020</td>\n",
       "      <td>53.42</td>\n",
       "      <td>1.432540</td>\n",
       "      <td>1.659053</td>\n",
       "      <td>88.626600</td>\n",
       "      <td>0.995544</td>\n",
       "    </tr>\n",
       "    <tr>\n",
       "      <th>2020-11-20</th>\n",
       "      <td>Dec 2020</td>\n",
       "      <td>53.02</td>\n",
       "      <td>1.555556</td>\n",
       "      <td>1.655766</td>\n",
       "      <td>87.788739</td>\n",
       "      <td>1.009544</td>\n",
       "    </tr>\n",
       "    <tr>\n",
       "      <th>2021-12-21</th>\n",
       "      <td>Jan 2021</td>\n",
       "      <td>52.17</td>\n",
       "      <td>3.126984</td>\n",
       "      <td>1.633935</td>\n",
       "      <td>85.242371</td>\n",
       "      <td>1.029872</td>\n",
       "    </tr>\n",
       "    <tr>\n",
       "      <th>2021-05-20</th>\n",
       "      <td>Jun 2021</td>\n",
       "      <td>52.18</td>\n",
       "      <td>2.273810</td>\n",
       "      <td>1.641381</td>\n",
       "      <td>85.647237</td>\n",
       "      <td>0.995273</td>\n",
       "    </tr>\n",
       "    <tr>\n",
       "      <th>2021-11-19</th>\n",
       "      <td>Dec 2021</td>\n",
       "      <td>51.75</td>\n",
       "      <td>3.000000</td>\n",
       "      <td>1.634436</td>\n",
       "      <td>84.582068</td>\n",
       "      <td>1.012593</td>\n",
       "    </tr>\n",
       "    <tr>\n",
       "      <th>2022-11-21</th>\n",
       "      <td>Dec 2022</td>\n",
       "      <td>51.64</td>\n",
       "      <td>4.456349</td>\n",
       "      <td>1.639795</td>\n",
       "      <td>84.679007</td>\n",
       "      <td>0.998855</td>\n",
       "    </tr>\n",
       "    <tr>\n",
       "      <th>2023-11-20</th>\n",
       "      <td>Dec 2023</td>\n",
       "      <td>51.83</td>\n",
       "      <td>5.900794</td>\n",
       "      <td>1.665171</td>\n",
       "      <td>86.305815</td>\n",
       "      <td>0.981151</td>\n",
       "    </tr>\n",
       "    <tr>\n",
       "      <th>2024-05-21</th>\n",
       "      <td>Jun 2024</td>\n",
       "      <td>51.45</td>\n",
       "      <td>6.626984</td>\n",
       "      <td>1.683732</td>\n",
       "      <td>86.627998</td>\n",
       "      <td>0.996281</td>\n",
       "    </tr>\n",
       "  </tbody>\n",
       "</table>\n",
       "</div>"
      ],
      "text/plain": [
       "                Contract  Futures         T        Bt         FB  ratio_FB\n",
       "SettlementDate                                                            \n",
       "2019-11-20      Dec 2019    56.23  0.103175  1.711965  96.263801  0.000000\n",
       "2019-12-19      Jan 2020    56.27  0.218254  1.706028  95.998176  1.002767\n",
       "2020-01-21      Feb 2020    56.10  0.349206  1.699603  95.347729  1.006822\n",
       "2020-02-20      Mar 2020    55.86  0.468254  1.694063  94.630353  1.007581\n",
       "2020-03-20      Apr 2020    55.44  0.583333  1.688974  93.636719  1.010612\n",
       "2020-04-21      May 2020    55.08  0.710317  1.683657  92.735816  1.009715\n",
       "2020-05-19      Jun 2020    54.70  0.821429  1.679256  91.855293  1.009586\n",
       "2020-06-22      Jul 2020    54.29  0.956349  1.674221  90.893451  1.010582\n",
       "2020-07-21      Aug 2020    54.01  1.071429  1.670189  90.206903  1.007611\n",
       "2020-08-20      Sep 2020    53.62  1.190476  1.666267  89.345237  1.009644\n",
       "2020-09-22      Oct 2020    53.08  1.321429  1.662239  88.231671  1.012621\n",
       "2020-10-20      Nov 2020    53.42  1.432540  1.659053  88.626600  0.995544\n",
       "2020-11-20      Dec 2020    53.02  1.555556  1.655766  87.788739  1.009544\n",
       "2021-12-21      Jan 2021    52.17  3.126984  1.633935  85.242371  1.029872\n",
       "2021-05-20      Jun 2021    52.18  2.273810  1.641381  85.647237  0.995273\n",
       "2021-11-19      Dec 2021    51.75  3.000000  1.634436  84.582068  1.012593\n",
       "2022-11-21      Dec 2022    51.64  4.456349  1.639795  84.679007  0.998855\n",
       "2023-11-20      Dec 2023    51.83  5.900794  1.665171  86.305815  0.981151\n",
       "2024-05-21      Jun 2024    51.45  6.626984  1.683732  86.627998  0.996281"
      ]
     },
     "execution_count": 341,
     "metadata": {},
     "output_type": "execute_result"
    }
   ],
   "source": [
    "# calculate the ratio\n",
    "data[['Futures']] = data[['Futures']].astype(float)\n",
    "data['FB'] = data['Futures']*data['Bt']\n",
    "data['ratio_FB']  = np.insert(data['FB'][:-1].values/data['FB'][1:].values,0,values=0,axis = 0)\n",
    "data"
   ]
  },
  {
   "cell_type": "markdown",
   "metadata": {},
   "source": [
    "# Question 2"
   ]
  },
  {
   "cell_type": "code",
   "execution_count": 342,
   "metadata": {},
   "outputs": [],
   "source": [
    "def print_fun(x, f, accepted):\n",
    "    if accepted == 1:\n",
    "        error.append((data[1:].apply(lambda y: Yield(y['T'],x[0],x[1],x[2],x[3]),axis = 1) - data.ratio_FB[1:]).abs().sum()/(data.shape[0]))\n",
    "    print(\"at minimum %.4f %.4f %.4f %.4f accepted %d\" % (x[0],x[1],x[2],x[3], int(accepted)))"
   ]
  },
  {
   "cell_type": "code",
   "execution_count": 343,
   "metadata": {},
   "outputs": [
    {
     "name": "stdout",
     "output_type": "stream",
     "text": [
      "at minimum 1.8241 0.0594 0.6164 -0.0466 accepted 1\n",
      "at minimum 1.6140 0.0238 0.3309 -0.0309 accepted 1\n",
      "at minimum 2.1810 0.0525 0.6905 -0.0486 accepted 1\n",
      "at minimum 2.1371 0.0163 0.3541 -0.0332 accepted 1\n",
      "at minimum 2.1488 0.0141 0.3186 -0.0333 accepted 1\n"
     ]
    },
    {
     "name": "stderr",
     "output_type": "stream",
     "text": [
      "//anaconda3/lib/python3.7/site-packages/ipykernel_launcher.py:6: RuntimeWarning: invalid value encountered in double_scalars\n",
      "  \n",
      "//anaconda3/lib/python3.7/site-packages/scipy/optimize/optimize.py:696: RuntimeWarning: invalid value encountered in double_scalars\n",
      "  grad[k] = (f(*((xk + d,) + args)) - f0) / d[k]\n",
      "//anaconda3/lib/python3.7/site-packages/ipykernel_launcher.py:6: RuntimeWarning: invalid value encountered in double_scalars\n",
      "  \n"
     ]
    },
    {
     "name": "stdout",
     "output_type": "stream",
     "text": [
      "at minimum 0.6907 0.3434 0.6274 0.0284 accepted 1\n",
      "at minimum 1.2973 0.0400 -0.3547 -0.0329 accepted 1\n",
      "at minimum 0.1567 1.0696 0.0259 -0.4143 accepted 0\n"
     ]
    },
    {
     "name": "stderr",
     "output_type": "stream",
     "text": [
      "//anaconda3/lib/python3.7/site-packages/scipy/optimize/optimize.py:696: RuntimeWarning: invalid value encountered in double_scalars\n",
      "  grad[k] = (f(*((xk + d,) + args)) - f0) / d[k]\n"
     ]
    },
    {
     "name": "stdout",
     "output_type": "stream",
     "text": [
      "at minimum 0.5334 0.7823 -0.0913 -0.3530 accepted 0\n",
      "at minimum 1.1443 0.0346 -0.2891 -0.0292 accepted 1\n",
      "at minimum 1.0897 0.0370 -0.2832 -0.0293 accepted 1\n"
     ]
    },
    {
     "name": "stderr",
     "output_type": "stream",
     "text": [
      "//anaconda3/lib/python3.7/site-packages/scipy/optimize/optimize.py:696: RuntimeWarning: invalid value encountered in double_scalars\n",
      "  grad[k] = (f(*((xk + d,) + args)) - f0) / d[k]\n"
     ]
    },
    {
     "name": "stdout",
     "output_type": "stream",
     "text": [
      "at minimum 0.7973 0.0501 0.2483 -0.0283 accepted 1\n",
      "at minimum 1.0783 0.2335 -0.7471 -0.0913 accepted 1\n",
      "at minimum 0.8389 0.0402 -0.2307 -0.0264 accepted 1\n",
      "at minimum 0.8483 0.0290 0.1929 -0.0233 accepted 1\n",
      "at minimum 1.3888 0.0871 -0.5744 -0.0495 accepted 1\n",
      "at minimum 1.9750 0.0034 -0.0109 -0.0272 accepted 1\n",
      "at minimum 1.5154 0.0386 -0.4063 -0.0357 accepted 1\n",
      "at minimum 1.5046 0.0051 -0.0541 -0.0240 accepted 1\n"
     ]
    },
    {
     "name": "stderr",
     "output_type": "stream",
     "text": [
      "//anaconda3/lib/python3.7/site-packages/scipy/optimize/optimize.py:696: RuntimeWarning: invalid value encountered in double_scalars\n",
      "  grad[k] = (f(*((xk + d,) + args)) - f0) / d[k]\n"
     ]
    },
    {
     "name": "stdout",
     "output_type": "stream",
     "text": [
      "at minimum 0.0208 0.4965 0.0514 -0.0157 accepted 1\n",
      "at minimum 0.6088 0.0489 0.1877 -0.0248 accepted 1\n",
      "at minimum 1.2182 0.0092 -0.1119 -0.0230 accepted 1\n",
      "at minimum 0.4307 0.0290 0.0885 -0.0182 accepted 1\n",
      "at minimum 0.6978 0.4260 0.6729 -0.1335 accepted 1\n",
      "at minimum 1.5153 0.0275 0.3369 -0.0316 accepted 1\n",
      "at minimum 0.8523 0.0105 -0.0763 -0.0197 accepted 1\n",
      "at minimum 0.6902 0.5063 0.7286 -0.1438 accepted 0\n"
     ]
    },
    {
     "name": "stderr",
     "output_type": "stream",
     "text": [
      "//anaconda3/lib/python3.7/site-packages/scipy/optimize/optimize.py:696: RuntimeWarning: invalid value encountered in double_scalars\n",
      "  grad[k] = (f(*((xk + d,) + args)) - f0) / d[k]\n"
     ]
    },
    {
     "name": "stdout",
     "output_type": "stream",
     "text": [
      "at minimum 0.8283 0.2575 -0.6139 -0.0835 accepted 1\n",
      "at minimum 0.6392 0.0312 -0.1464 -0.0217 accepted 1\n",
      "at minimum 0.2682 0.0483 -0.0800 -0.0178 accepted 1\n",
      "at minimum 0.8296 0.0182 -0.1323 -0.0211 accepted 1\n",
      "at minimum 0.1769 0.0899 0.0876 -0.0185 accepted 1\n",
      "at minimum 0.3522 0.0500 -0.1120 -0.0197 accepted 1\n",
      "at minimum 1.1431 0.0557 0.2870 -0.1331 accepted 0\n"
     ]
    },
    {
     "name": "stderr",
     "output_type": "stream",
     "text": [
      "//anaconda3/lib/python3.7/site-packages/scipy/optimize/optimize.py:696: RuntimeWarning: invalid value encountered in double_scalars\n",
      "  grad[k] = (f(*((xk + d,) + args)) - f0) / d[k]\n",
      "//anaconda3/lib/python3.7/site-packages/scipy/optimize/optimize.py:696: RuntimeWarning: invalid value encountered in double_scalars\n",
      "  grad[k] = (f(*((xk + d,) + args)) - f0) / d[k]\n"
     ]
    },
    {
     "name": "stdout",
     "output_type": "stream",
     "text": [
      "at minimum 0.4327 0.8917 -0.1783 -0.4182 accepted 0\n",
      "at minimum 0.3529 0.1151 0.1828 -0.0319 accepted 1\n",
      "at minimum 0.2074 0.0247 -0.0087 -0.0140 accepted 1\n",
      "at minimum 0.8741 0.0599 -0.2990 -0.0328 accepted 1\n"
     ]
    },
    {
     "name": "stderr",
     "output_type": "stream",
     "text": [
      "//anaconda3/lib/python3.7/site-packages/scipy/optimize/optimize.py:696: RuntimeWarning: invalid value encountered in double_scalars\n",
      "  grad[k] = (f(*((xk + d,) + args)) - f0) / d[k]\n"
     ]
    },
    {
     "name": "stdout",
     "output_type": "stream",
     "text": [
      "at minimum 0.5005 0.0179 -0.0679 -0.0176 accepted 1\n",
      "at minimum 1.0137 0.2378 0.1574 -0.1531 accepted 0\n",
      "at minimum 0.5579 0.0179 -0.0760 -0.0183 accepted 1\n",
      "at minimum 0.7510 0.0126 0.0807 -0.0192 accepted 1\n",
      "at minimum 0.4486 0.0596 0.1575 -0.0231 accepted 1\n",
      "at minimum 0.8213 0.0102 0.0678 -0.0195 accepted 1\n"
     ]
    },
    {
     "name": "stderr",
     "output_type": "stream",
     "text": [
      "//anaconda3/lib/python3.7/site-packages/scipy/optimize/optimize.py:696: RuntimeWarning: invalid value encountered in double_scalars\n",
      "  grad[k] = (f(*((xk + d,) + args)) - f0) / d[k]\n"
     ]
    },
    {
     "name": "stdout",
     "output_type": "stream",
     "text": [
      "at minimum 0.7967 0.4798 -0.6077 -0.4878 accepted 0\n",
      "at minimum 0.6342 0.0564 0.2114 -0.0272 accepted 1\n",
      "at minimum 1.6669 0.0653 0.5905 -0.0480 accepted 1\n"
     ]
    },
    {
     "name": "stderr",
     "output_type": "stream",
     "text": [
      "//anaconda3/lib/python3.7/site-packages/ipykernel_launcher.py:6: RuntimeWarning: invalid value encountered in double_scalars\n",
      "  \n",
      "//anaconda3/lib/python3.7/site-packages/scipy/optimize/optimize.py:696: RuntimeWarning: invalid value encountered in double_scalars\n",
      "  grad[k] = (f(*((xk + d,) + args)) - f0) / d[k]\n"
     ]
    },
    {
     "name": "stdout",
     "output_type": "stream",
     "text": [
      "at minimum 0.3363 0.7611 0.0500 -0.4576 accepted 0\n",
      "at minimum 1.4457 0.0604 -0.4920 -0.0418 accepted 1\n"
     ]
    },
    {
     "name": "stderr",
     "output_type": "stream",
     "text": [
      "//anaconda3/lib/python3.7/site-packages/ipykernel_launcher.py:6: RuntimeWarning: invalid value encountered in double_scalars\n",
      "  \n",
      "//anaconda3/lib/python3.7/site-packages/scipy/optimize/optimize.py:696: RuntimeWarning: invalid value encountered in double_scalars\n",
      "  grad[k] = (f(*((xk + d,) + args)) - f0) / d[k]\n",
      "//anaconda3/lib/python3.7/site-packages/ipykernel_launcher.py:6: RuntimeWarning: invalid value encountered in double_scalars\n",
      "  \n"
     ]
    },
    {
     "name": "stdout",
     "output_type": "stream",
     "text": [
      "at minimum 0.8337 0.0252 -0.1677 -0.0230 accepted 1\n"
     ]
    },
    {
     "name": "stderr",
     "output_type": "stream",
     "text": [
      "//anaconda3/lib/python3.7/site-packages/ipykernel_launcher.py:6: RuntimeWarning: invalid value encountered in double_scalars\n",
      "  \n"
     ]
    },
    {
     "name": "stdout",
     "output_type": "stream",
     "text": [
      "at minimum -0.0666 -0.1319 0.0397 -0.0136 accepted 1\n",
      "at minimum 0.7840 0.0562 -0.2596 -0.0298 accepted 1\n",
      "at minimum 1.2379 0.0814 0.4945 -0.0466 accepted 1\n",
      "at minimum 1.6556 0.0568 0.5446 -0.0437 accepted 1\n",
      "at minimum 0.9774 0.0381 0.2578 -0.0286 accepted 1\n",
      "at minimum 1.4171 0.0678 0.5146 -0.0425 accepted 1\n"
     ]
    },
    {
     "name": "stderr",
     "output_type": "stream",
     "text": [
      "//anaconda3/lib/python3.7/site-packages/scipy/optimize/optimize.py:696: RuntimeWarning: invalid value encountered in double_scalars\n",
      "  grad[k] = (f(*((xk + d,) + args)) - f0) / d[k]\n"
     ]
    },
    {
     "name": "stdout",
     "output_type": "stream",
     "text": [
      "at minimum 1.1888 0.7277 0.1072 -0.7278 accepted 0\n",
      "at minimum 0.9949 0.5089 -1.0279 -0.1761 accepted 1\n",
      "at minimum 1.7486 0.0040 0.0012 -0.0255 accepted 1\n",
      "at minimum 2.0652 0.0046 -0.0912 -0.0289 accepted 1\n"
     ]
    },
    {
     "name": "stderr",
     "output_type": "stream",
     "text": [
      "//anaconda3/lib/python3.7/site-packages/ipykernel_launcher.py:6: RuntimeWarning: invalid value encountered in double_scalars\n",
      "  \n",
      "//anaconda3/lib/python3.7/site-packages/ipykernel_launcher.py:6: RuntimeWarning: invalid value encountered in double_scalars\n",
      "  \n"
     ]
    },
    {
     "name": "stdout",
     "output_type": "stream",
     "text": [
      "at minimum 0.2651 0.4585 -0.1490 -0.2854 accepted 0\n",
      "at minimum 1.8761 0.0042 0.0577 -0.0267 accepted 1\n",
      "at minimum 1.7536 0.0301 0.4062 -0.0358 accepted 1\n",
      "at minimum 2.2083 0.0027 0.0186 -0.0285 accepted 1\n",
      "at minimum 2.7837 0.0091 -0.3141 -0.0363 accepted 1\n"
     ]
    },
    {
     "name": "stderr",
     "output_type": "stream",
     "text": [
      "//anaconda3/lib/python3.7/site-packages/ipykernel_launcher.py:6: RuntimeWarning: invalid value encountered in double_scalars\n",
      "  \n",
      "//anaconda3/lib/python3.7/site-packages/ipykernel_launcher.py:6: RuntimeWarning: invalid value encountered in double_scalars\n",
      "  \n"
     ]
    },
    {
     "name": "stdout",
     "output_type": "stream",
     "text": [
      "at minimum 0.2428 0.4381 0.1863 -0.2328 accepted 0\n",
      "at minimum 1.4185 0.0072 0.1094 -0.0238 accepted 1\n"
     ]
    },
    {
     "name": "stderr",
     "output_type": "stream",
     "text": [
      "//anaconda3/lib/python3.7/site-packages/ipykernel_launcher.py:6: RuntimeWarning: overflow encountered in double_scalars\n",
      "  \n",
      "//anaconda3/lib/python3.7/site-packages/scipy/optimize/optimize.py:696: RuntimeWarning: invalid value encountered in double_scalars\n",
      "  grad[k] = (f(*((xk + d,) + args)) - f0) / d[k]\n",
      "//anaconda3/lib/python3.7/site-packages/ipykernel_launcher.py:6: RuntimeWarning: overflow encountered in double_scalars\n",
      "  \n",
      "//anaconda3/lib/python3.7/site-packages/ipykernel_launcher.py:6: RuntimeWarning: invalid value encountered in double_scalars\n",
      "  \n",
      "//anaconda3/lib/python3.7/site-packages/scipy/optimize/optimize.py:696: RuntimeWarning: invalid value encountered in double_scalars\n",
      "  grad[k] = (f(*((xk + d,) + args)) - f0) / d[k]\n"
     ]
    },
    {
     "name": "stdout",
     "output_type": "stream",
     "text": [
      "at minimum 1.1671 0.6328 0.0128 -0.5901 accepted 0\n"
     ]
    },
    {
     "name": "stderr",
     "output_type": "stream",
     "text": [
      "//anaconda3/lib/python3.7/site-packages/scipy/optimize/optimize.py:696: RuntimeWarning: invalid value encountered in double_scalars\n",
      "  grad[k] = (f(*((xk + d,) + args)) - f0) / d[k]\n"
     ]
    },
    {
     "name": "stdout",
     "output_type": "stream",
     "text": [
      "at minimum 0.6025 0.6152 -0.0426 -0.3602 accepted 0\n",
      "at minimum 1.1242 0.0290 -0.2540 -0.0274 accepted 1\n",
      "at minimum 1.3352 0.0670 -0.4819 -0.0420 accepted 1\n",
      "at minimum 2.3171 0.0076 0.2297 -0.0313 accepted 1\n",
      "at minimum 1.8706 0.0043 -0.0630 -0.0268 accepted 1\n",
      "at minimum 1.8605 0.0103 -0.2171 -0.0290 accepted 1\n",
      "at minimum 1.6143 0.0939 -0.6929 -0.0564 accepted 0\n",
      "at minimum 1.6262 0.0123 0.2087 -0.0276 accepted 1\n",
      "at minimum 1.5759 0.0688 0.5740 -0.0482 accepted 1\n",
      "at minimum 0.6068 0.0090 -0.0031 -0.0171 accepted 1\n",
      "at minimum 0.5898 0.0092 0.0156 -0.0170 accepted 1\n",
      "at minimum 0.9672 0.0206 -0.1735 -0.0233 accepted 1\n",
      "at minimum 0.6302 0.0098 -0.0242 -0.0176 accepted 1\n",
      "at minimum 0.6556 0.8261 -0.1028 -0.4506 accepted 0\n"
     ]
    },
    {
     "name": "stderr",
     "output_type": "stream",
     "text": [
      "//anaconda3/lib/python3.7/site-packages/scipy/optimize/optimize.py:696: RuntimeWarning: invalid value encountered in double_scalars\n",
      "  grad[k] = (f(*((xk + d,) + args)) - f0) / d[k]\n"
     ]
    },
    {
     "name": "stdout",
     "output_type": "stream",
     "text": [
      "at minimum 0.6132 0.6453 0.6962 -0.3037 accepted 0\n",
      "at minimum 0.5882 0.0145 0.0630 -0.0180 accepted 1\n",
      "at minimum 1.9724 0.0140 0.2963 -0.0307 accepted 1\n"
     ]
    },
    {
     "name": "stderr",
     "output_type": "stream",
     "text": [
      "//anaconda3/lib/python3.7/site-packages/ipykernel_launcher.py:6: RuntimeWarning: invalid value encountered in double_scalars\n",
      "  \n",
      "//anaconda3/lib/python3.7/site-packages/scipy/optimize/optimize.py:696: RuntimeWarning: invalid value encountered in double_scalars\n",
      "  grad[k] = (f(*((xk + d,) + args)) - f0) / d[k]\n",
      "//anaconda3/lib/python3.7/site-packages/ipykernel_launcher.py:6: RuntimeWarning: invalid value encountered in double_scalars\n",
      "  \n"
     ]
    },
    {
     "name": "stdout",
     "output_type": "stream",
     "text": [
      "at minimum 0.6997 0.4579 -0.6395 -0.3208 accepted 0\n",
      "at minimum 1.7100 0.0239 -0.3494 -0.0321 accepted 1\n"
     ]
    },
    {
     "name": "stderr",
     "output_type": "stream",
     "text": [
      "//anaconda3/lib/python3.7/site-packages/ipykernel_launcher.py:6: RuntimeWarning: invalid value encountered in double_scalars\n",
      "  \n",
      "//anaconda3/lib/python3.7/site-packages/ipykernel_launcher.py:6: RuntimeWarning: invalid value encountered in double_scalars\n",
      "  \n"
     ]
    },
    {
     "name": "stdout",
     "output_type": "stream",
     "text": [
      "at minimum 0.2932 0.5053 0.0716 -0.0510 accepted 0\n",
      "at minimum 2.0870 0.0403 -0.5739 -0.0428 accepted 1\n",
      "at minimum 1.0915 0.0280 -0.2381 -0.0269 accepted 1\n",
      "at minimum 0.5038 0.0083 0.0023 -0.0159 accepted 1\n",
      "at minimum 0.5239 0.0567 -0.1770 -0.0247 accepted 1\n",
      "at minimum 0.6084 0.0301 0.1411 -0.0206 accepted 1\n",
      "at minimum 0.2657 0.0715 -0.1083 -0.0202 accepted 1\n",
      "at minimum 0.2314 0.0603 -0.0871 -0.0166 accepted 1\n",
      "at minimum 0.8353 0.0101 0.0685 -0.0196 accepted 1\n",
      "at minimum 1.0894 0.0438 0.3134 -0.0313 accepted 1\n",
      "at minimum 1.6882 0.1071 0.7746 -0.0642 accepted 1\n"
     ]
    },
    {
     "name": "stderr",
     "output_type": "stream",
     "text": [
      "//anaconda3/lib/python3.7/site-packages/ipykernel_launcher.py:6: RuntimeWarning: invalid value encountered in double_scalars\n",
      "  \n",
      "//anaconda3/lib/python3.7/site-packages/scipy/optimize/optimize.py:696: RuntimeWarning: invalid value encountered in double_scalars\n",
      "  grad[k] = (f(*((xk + d,) + args)) - f0) / d[k]\n"
     ]
    },
    {
     "name": "stdout",
     "output_type": "stream",
     "text": [
      "at minimum 1.0408 0.7907 0.1183 -0.7127 accepted 0\n",
      "at minimum 1.0689 0.0387 0.2875 -0.0293 accepted 1\n"
     ]
    },
    {
     "data": {
      "text/plain": [
       "array([ 0.52394789,  0.05672364, -0.17697576, -0.02465313])"
      ]
     },
     "execution_count": 343,
     "metadata": {},
     "output_type": "execute_result"
    }
   ],
   "source": [
    "from scipy.optimize import minimize\n",
    "from scipy.optimize import basinhopping\n",
    "def Yield(T, k, theta, eta, y0):\n",
    "    b_vk = (1 - np.exp(-k * T)) / k\n",
    "    a_vk = np.exp((b_vk - T) * (k**2 * theta - eta**2 / 2.0) / k**2 - eta**2 * b_vk**2 / (4.0 * k))\n",
    "    return a_vk * np.exp(-b_vk * y0)\n",
    "fun = lambda x: (data[1:].apply(lambda y: Yield(y['T'],x[0],x[1],x[2],x[3]),axis = 1) - data.ratio_FB[1:]).abs().sum()\n",
    "initial_guess = (1,1,1,1)    \n",
    "error = []\n",
    "#res = minimize(fun, initial_guess,options={'disp': True})\n",
    "res = basinhopping(fun,initial_guess, callback = print_fun)\n",
    "res.x"
   ]
  },
  {
   "cell_type": "code",
   "execution_count": 344,
   "metadata": {},
   "outputs": [
    {
     "data": {
      "text/plain": [
       "[<matplotlib.lines.Line2D at 0x11e5ab9e8>]"
      ]
     },
     "execution_count": 344,
     "metadata": {},
     "output_type": "execute_result"
    },
    {
     "data": {
      "image/png": "[encoded data removed]",
      "text/plain": [
       "<Figure size 432x288 with 1 Axes>"
      ]
     },
     "metadata": {
      "needs_background": "light"
     },
     "output_type": "display_data"
    }
   ],
   "source": [
    "plt.plot(error)"
   ]
  },
  {
   "cell_type": "code",
   "execution_count": 345,
   "metadata": {},
   "outputs": [
    {
     "data": {
      "text/html": [
       "<div>\n",
       "<style scoped>\n",
       "    .dataframe tbody tr th:only-of-type {\n",
       "        vertical-align: middle;\n",
       "    }\n",
       "\n",
       "    .dataframe tbody tr th {\n",
       "        vertical-align: top;\n",
       "    }\n",
       "\n",
       "    .dataframe thead th {\n",
       "        text-align: right;\n",
       "    }\n",
       "</style>\n",
       "<table border=\"1\" class=\"dataframe\">\n",
       "  <thead>\n",
       "    <tr style=\"text-align: right;\">\n",
       "      <th></th>\n",
       "      <th>Contract</th>\n",
       "      <th>Futures</th>\n",
       "      <th>T</th>\n",
       "      <th>Bt</th>\n",
       "      <th>FB</th>\n",
       "      <th>ratio_FB</th>\n",
       "      <th>Y</th>\n",
       "      <th>ratio_Y</th>\n",
       "    </tr>\n",
       "    <tr>\n",
       "      <th>SettlementDate</th>\n",
       "      <th></th>\n",
       "      <th></th>\n",
       "      <th></th>\n",
       "      <th></th>\n",
       "      <th></th>\n",
       "      <th></th>\n",
       "      <th></th>\n",
       "      <th></th>\n",
       "    </tr>\n",
       "  </thead>\n",
       "  <tbody>\n",
       "    <tr>\n",
       "      <th>2019-11-20</th>\n",
       "      <td>Dec 2019</td>\n",
       "      <td>56.23</td>\n",
       "      <td>0.103175</td>\n",
       "      <td>1.711965</td>\n",
       "      <td>96.263801</td>\n",
       "      <td>0.000000</td>\n",
       "      <td>1.001457</td>\n",
       "      <td>0.000000</td>\n",
       "    </tr>\n",
       "    <tr>\n",
       "      <th>2019-12-19</th>\n",
       "      <td>Jan 2020</td>\n",
       "      <td>56.27</td>\n",
       "      <td>0.218254</td>\n",
       "      <td>1.706028</td>\n",
       "      <td>95.998176</td>\n",
       "      <td>1.002767</td>\n",
       "      <td>1.002980</td>\n",
       "      <td>0.998481</td>\n",
       "    </tr>\n",
       "    <tr>\n",
       "      <th>2020-01-21</th>\n",
       "      <td>Feb 2020</td>\n",
       "      <td>56.10</td>\n",
       "      <td>0.349206</td>\n",
       "      <td>1.699603</td>\n",
       "      <td>95.347729</td>\n",
       "      <td>1.006822</td>\n",
       "      <td>1.004583</td>\n",
       "      <td>0.998404</td>\n",
       "    </tr>\n",
       "    <tr>\n",
       "      <th>2020-02-20</th>\n",
       "      <td>Mar 2020</td>\n",
       "      <td>55.86</td>\n",
       "      <td>0.468254</td>\n",
       "      <td>1.694063</td>\n",
       "      <td>94.630353</td>\n",
       "      <td>1.007581</td>\n",
       "      <td>1.005920</td>\n",
       "      <td>0.998671</td>\n",
       "    </tr>\n",
       "    <tr>\n",
       "      <th>2020-03-20</th>\n",
       "      <td>Apr 2020</td>\n",
       "      <td>55.44</td>\n",
       "      <td>0.583333</td>\n",
       "      <td>1.688974</td>\n",
       "      <td>93.636719</td>\n",
       "      <td>1.010612</td>\n",
       "      <td>1.007104</td>\n",
       "      <td>0.998824</td>\n",
       "    </tr>\n",
       "    <tr>\n",
       "      <th>2020-04-21</th>\n",
       "      <td>May 2020</td>\n",
       "      <td>55.08</td>\n",
       "      <td>0.710317</td>\n",
       "      <td>1.683657</td>\n",
       "      <td>92.735816</td>\n",
       "      <td>1.009715</td>\n",
       "      <td>1.008288</td>\n",
       "      <td>0.998826</td>\n",
       "    </tr>\n",
       "    <tr>\n",
       "      <th>2020-05-19</th>\n",
       "      <td>Jun 2020</td>\n",
       "      <td>54.70</td>\n",
       "      <td>0.821429</td>\n",
       "      <td>1.679256</td>\n",
       "      <td>91.855293</td>\n",
       "      <td>1.009586</td>\n",
       "      <td>1.009219</td>\n",
       "      <td>0.999078</td>\n",
       "    </tr>\n",
       "    <tr>\n",
       "      <th>2020-06-22</th>\n",
       "      <td>Jul 2020</td>\n",
       "      <td>54.29</td>\n",
       "      <td>0.956349</td>\n",
       "      <td>1.674221</td>\n",
       "      <td>90.893451</td>\n",
       "      <td>1.010582</td>\n",
       "      <td>1.010218</td>\n",
       "      <td>0.999011</td>\n",
       "    </tr>\n",
       "    <tr>\n",
       "      <th>2020-07-21</th>\n",
       "      <td>Aug 2020</td>\n",
       "      <td>54.01</td>\n",
       "      <td>1.071429</td>\n",
       "      <td>1.670189</td>\n",
       "      <td>90.206903</td>\n",
       "      <td>1.007611</td>\n",
       "      <td>1.010958</td>\n",
       "      <td>0.999268</td>\n",
       "    </tr>\n",
       "    <tr>\n",
       "      <th>2020-08-20</th>\n",
       "      <td>Sep 2020</td>\n",
       "      <td>53.62</td>\n",
       "      <td>1.190476</td>\n",
       "      <td>1.666267</td>\n",
       "      <td>89.345237</td>\n",
       "      <td>1.009644</td>\n",
       "      <td>1.011615</td>\n",
       "      <td>0.999350</td>\n",
       "    </tr>\n",
       "    <tr>\n",
       "      <th>2020-09-22</th>\n",
       "      <td>Oct 2020</td>\n",
       "      <td>53.08</td>\n",
       "      <td>1.321429</td>\n",
       "      <td>1.662239</td>\n",
       "      <td>88.231671</td>\n",
       "      <td>1.012621</td>\n",
       "      <td>1.012213</td>\n",
       "      <td>0.999409</td>\n",
       "    </tr>\n",
       "    <tr>\n",
       "      <th>2020-10-20</th>\n",
       "      <td>Nov 2020</td>\n",
       "      <td>53.42</td>\n",
       "      <td>1.432540</td>\n",
       "      <td>1.659053</td>\n",
       "      <td>88.626600</td>\n",
       "      <td>0.995544</td>\n",
       "      <td>1.012620</td>\n",
       "      <td>0.999598</td>\n",
       "    </tr>\n",
       "    <tr>\n",
       "      <th>2020-11-20</th>\n",
       "      <td>Dec 2020</td>\n",
       "      <td>53.02</td>\n",
       "      <td>1.555556</td>\n",
       "      <td>1.655766</td>\n",
       "      <td>87.788739</td>\n",
       "      <td>1.009544</td>\n",
       "      <td>1.012964</td>\n",
       "      <td>0.999660</td>\n",
       "    </tr>\n",
       "    <tr>\n",
       "      <th>2021-12-21</th>\n",
       "      <td>Jan 2021</td>\n",
       "      <td>52.17</td>\n",
       "      <td>3.126984</td>\n",
       "      <td>1.633935</td>\n",
       "      <td>85.242371</td>\n",
       "      <td>1.029872</td>\n",
       "      <td>1.008813</td>\n",
       "      <td>1.004115</td>\n",
       "    </tr>\n",
       "    <tr>\n",
       "      <th>2021-05-20</th>\n",
       "      <td>Jun 2021</td>\n",
       "      <td>52.18</td>\n",
       "      <td>2.273810</td>\n",
       "      <td>1.641381</td>\n",
       "      <td>85.647237</td>\n",
       "      <td>0.995273</td>\n",
       "      <td>1.012873</td>\n",
       "      <td>0.995991</td>\n",
       "    </tr>\n",
       "    <tr>\n",
       "      <th>2021-11-19</th>\n",
       "      <td>Dec 2021</td>\n",
       "      <td>51.75</td>\n",
       "      <td>3.000000</td>\n",
       "      <td>1.634436</td>\n",
       "      <td>84.582068</td>\n",
       "      <td>1.012593</td>\n",
       "      <td>1.009637</td>\n",
       "      <td>1.003205</td>\n",
       "    </tr>\n",
       "    <tr>\n",
       "      <th>2022-11-21</th>\n",
       "      <td>Dec 2022</td>\n",
       "      <td>51.64</td>\n",
       "      <td>4.456349</td>\n",
       "      <td>1.639795</td>\n",
       "      <td>84.679007</td>\n",
       "      <td>0.998855</td>\n",
       "      <td>0.997938</td>\n",
       "      <td>1.011723</td>\n",
       "    </tr>\n",
       "    <tr>\n",
       "      <th>2023-11-20</th>\n",
       "      <td>Dec 2023</td>\n",
       "      <td>51.83</td>\n",
       "      <td>5.900794</td>\n",
       "      <td>1.665171</td>\n",
       "      <td>86.305815</td>\n",
       "      <td>0.981151</td>\n",
       "      <td>0.991119</td>\n",
       "      <td>1.006880</td>\n",
       "    </tr>\n",
       "    <tr>\n",
       "      <th>2024-05-21</th>\n",
       "      <td>Jun 2024</td>\n",
       "      <td>51.45</td>\n",
       "      <td>6.626984</td>\n",
       "      <td>1.683732</td>\n",
       "      <td>86.627998</td>\n",
       "      <td>0.996281</td>\n",
       "      <td>0.996281</td>\n",
       "      <td>0.994819</td>\n",
       "    </tr>\n",
       "  </tbody>\n",
       "</table>\n",
       "</div>"
      ],
      "text/plain": [
       "                Contract  Futures         T        Bt         FB  ratio_FB  \\\n",
       "SettlementDate                                                               \n",
       "2019-11-20      Dec 2019    56.23  0.103175  1.711965  96.263801  0.000000   \n",
       "2019-12-19      Jan 2020    56.27  0.218254  1.706028  95.998176  1.002767   \n",
       "2020-01-21      Feb 2020    56.10  0.349206  1.699603  95.347729  1.006822   \n",
       "2020-02-20      Mar 2020    55.86  0.468254  1.694063  94.630353  1.007581   \n",
       "2020-03-20      Apr 2020    55.44  0.583333  1.688974  93.636719  1.010612   \n",
       "2020-04-21      May 2020    55.08  0.710317  1.683657  92.735816  1.009715   \n",
       "2020-05-19      Jun 2020    54.70  0.821429  1.679256  91.855293  1.009586   \n",
       "2020-06-22      Jul 2020    54.29  0.956349  1.674221  90.893451  1.010582   \n",
       "2020-07-21      Aug 2020    54.01  1.071429  1.670189  90.206903  1.007611   \n",
       "2020-08-20      Sep 2020    53.62  1.190476  1.666267  89.345237  1.009644   \n",
       "2020-09-22      Oct 2020    53.08  1.321429  1.662239  88.231671  1.012621   \n",
       "2020-10-20      Nov 2020    53.42  1.432540  1.659053  88.626600  0.995544   \n",
       "2020-11-20      Dec 2020    53.02  1.555556  1.655766  87.788739  1.009544   \n",
       "2021-12-21      Jan 2021    52.17  3.126984  1.633935  85.242371  1.029872   \n",
       "2021-05-20      Jun 2021    52.18  2.273810  1.641381  85.647237  0.995273   \n",
       "2021-11-19      Dec 2021    51.75  3.000000  1.634436  84.582068  1.012593   \n",
       "2022-11-21      Dec 2022    51.64  4.456349  1.639795  84.679007  0.998855   \n",
       "2023-11-20      Dec 2023    51.83  5.900794  1.665171  86.305815  0.981151   \n",
       "2024-05-21      Jun 2024    51.45  6.626984  1.683732  86.627998  0.996281   \n",
       "\n",
       "                       Y   ratio_Y  \n",
       "SettlementDate                      \n",
       "2019-11-20      1.001457  0.000000  \n",
       "2019-12-19      1.002980  0.998481  \n",
       "2020-01-21      1.004583  0.998404  \n",
       "2020-02-20      1.005920  0.998671  \n",
       "2020-03-20      1.007104  0.998824  \n",
       "2020-04-21      1.008288  0.998826  \n",
       "2020-05-19      1.009219  0.999078  \n",
       "2020-06-22      1.010218  0.999011  \n",
       "2020-07-21      1.010958  0.999268  \n",
       "2020-08-20      1.011615  0.999350  \n",
       "2020-09-22      1.012213  0.999409  \n",
       "2020-10-20      1.012620  0.999598  \n",
       "2020-11-20      1.012964  0.999660  \n",
       "2021-12-21      1.008813  1.004115  \n",
       "2021-05-20      1.012873  0.995991  \n",
       "2021-11-19      1.009637  1.003205  \n",
       "2022-11-21      0.997938  1.011723  \n",
       "2023-11-20      0.991119  1.006880  \n",
       "2024-05-21      0.996281  0.994819  "
      ]
     },
     "execution_count": 345,
     "metadata": {},
     "output_type": "execute_result"
    }
   ],
   "source": [
    "[k, theta, eta, y0] = [0.8113, 0.0491, -0.2497, -0.0282]\n",
    "data['Y'] = Yield(data['T'], k, theta, eta, y0)\n",
    "data['ratio_Y']  = np.insert(data['Y'][:-1].values/data['Y'][1:].values,0,values=0,axis = 0)\n",
    "data"
   ]
  },
  {
   "cell_type": "code",
   "execution_count": 346,
   "metadata": {},
   "outputs": [
    {
     "data": {
      "image/png": "[encoded data removed]",
      "text/plain": [
       "<Figure size 432x288 with 1 Axes>"
      ]
     },
     "metadata": {
      "needs_background": "light"
     },
     "output_type": "display_data"
    }
   ],
   "source": [
    "list1 = data['ratio_FB'].tolist()\n",
    "list2 = data['ratio_Y'].tolist()\n",
    "ratio = pd.DataFrame({'ratio_FB': list1, 'ratio_Y': list2})\n",
    "ratio = ratio.drop([0])\n",
    "ratio.plot()\n",
    "plt.grid()\n",
    "plt.ylim(0.9, 1.1)\n",
    "plt.ylabel('ratio')\n",
    "plt.legend()\n",
    "plt.show()"
   ]
  },
  {
   "cell_type": "markdown",
   "metadata": {},
   "source": [
    "# Question 3"
   ]
  },
  {
   "cell_type": "code",
   "execution_count": 347,
   "metadata": {},
   "outputs": [],
   "source": [
    "def print_fun1(x, f, accepted):\n",
    "    if accepted == 1:\n",
    "        error1.append((data[1:].apply(lambda y: Futures(y['T'], x[0], x[1], x[2], 0.03) ,axis = 1) - data.Futures[1:]).abs().sum()/(data.shape[0]))\n",
    "    print(\"at minimum %.4f %.4f %.4f accepted %d\" % (x[0],x[1],x[2], int(accepted)))"
   ]
  },
  {
   "cell_type": "code",
   "execution_count": 348,
   "metadata": {},
   "outputs": [
    {
     "name": "stdout",
     "output_type": "stream",
     "text": [
      "at minimum 55.6011 -0.5789 -0.9795 accepted 1\n",
      "at minimum 55.4970 -1.0350 -0.5540 accepted 1\n",
      "at minimum 55.6098 -1.1948 -0.4739 accepted 1\n",
      "at minimum 55.6605 -0.6773 -0.8321 accepted 1\n",
      "at minimum 55.7036 -0.9591 -0.5892 accepted 1\n",
      "at minimum 55.6689 -0.8110 -0.6947 accepted 1\n",
      "at minimum 55.6244 -1.0102 -0.5617 accepted 1\n",
      "at minimum 55.6082 -0.7861 -0.7198 accepted 1\n",
      "at minimum 55.6814 -0.7471 -0.7539 accepted 1\n",
      "at minimum 55.6157 -0.8033 -0.7024 accepted 1\n",
      "at minimum 55.6672 -0.6155 -0.9171 accepted 1\n",
      "at minimum 55.5991 -0.6844 -0.8307 accepted 1\n",
      "at minimum 55.7452 -0.8671 -0.6485 accepted 1\n",
      "at minimum 55.6343 -1.1429 -0.4941 accepted 1\n",
      "at minimum 55.5901 -0.9719 -0.5810 accepted 1\n",
      "at minimum 55.6252 -1.0095 -0.5601 accepted 1\n",
      "at minimum 55.6338 -0.8415 -0.6707 accepted 1\n",
      "at minimum 55.8050 -1.2099 -0.4640 accepted 1\n",
      "at minimum 55.6766 -1.1535 -0.4885 accepted 1\n",
      "at minimum 55.6771 -1.1210 -0.5026 accepted 1\n",
      "at minimum 55.5418 -1.1553 -0.4894 accepted 1\n",
      "at minimum 55.6632 -0.7787 -0.7299 accepted 1\n",
      "at minimum 55.6780 -0.6639 -0.8489 accepted 1\n",
      "at minimum 55.6762 -0.6002 -0.9389 accepted 1\n",
      "at minimum 55.7162 -0.5779 -0.9738 accepted 1\n",
      "at minimum 55.6884 -0.6864 -0.8198 accepted 1\n",
      "at minimum 55.6331 -0.8087 -0.6995 accepted 1\n",
      "at minimum 55.6254 -0.7846 -0.7221 accepted 1\n",
      "at minimum 55.6746 -0.7965 -0.7079 accepted 1\n",
      "at minimum 55.6656 -0.4975 -1.1326 accepted 1\n",
      "at minimum 55.6675 -0.3771 -1.4957 accepted 1\n",
      "at minimum 55.6254 -0.6235 -0.9102 accepted 1\n",
      "at minimum 55.6022 -0.8019 -0.7051 accepted 1\n",
      "at minimum 55.6445 -1.1550 -0.4903 accepted 1\n",
      "at minimum 55.6311 -0.9750 -0.5786 accepted 1\n",
      "at minimum 55.4692 -1.1450 -0.4955 accepted 0\n",
      "at minimum 56.0241 -0.7612 -0.7339 accepted 1\n",
      "at minimum 55.6417 -0.9971 -0.5673 accepted 1\n",
      "at minimum 55.6808 -0.7262 -0.7757 accepted 1\n",
      "at minimum 55.5968 -0.8989 -0.6339 accepted 1\n",
      "at minimum 55.6138 -0.8645 -0.6579 accepted 1\n",
      "at minimum 55.6033 -0.6340 -0.8917 accepted 1\n",
      "at minimum 55.7406 -0.7214 -0.7813 accepted 1\n",
      "at minimum 55.6768 -0.7839 -0.7188 accepted 1\n",
      "at minimum 55.6085 -1.0831 -0.5253 accepted 1\n",
      "at minimum 55.6744 -1.1983 -0.4705 accepted 1\n",
      "at minimum 55.7339 -1.0445 -0.5385 accepted 1\n",
      "at minimum 55.6408 -0.9919 -0.5685 accepted 1\n",
      "at minimum 55.6816 -0.7045 -0.7995 accepted 1\n",
      "at minimum 55.6683 -0.9884 -0.5710 accepted 1\n",
      "at minimum 55.6453 -1.2860 -0.4384 accepted 1\n",
      "at minimum 55.6286 -1.6307 -0.3465 accepted 1\n",
      "at minimum 55.6715 -1.5041 -0.3750 accepted 1\n",
      "at minimum 55.6215 -1.0197 -0.5545 accepted 1\n",
      "at minimum 55.6783 -0.8572 -0.6571 accepted 1\n",
      "at minimum 55.6386 -0.5253 -1.0735 accepted 1\n",
      "at minimum 55.6537 -0.8254 -0.6829 accepted 1\n",
      "at minimum 55.6616 -1.1504 -0.4910 accepted 1\n",
      "at minimum 55.6141 -1.2040 -0.4714 accepted 1\n",
      "at minimum 55.6361 -1.2303 -0.4599 accepted 1\n",
      "at minimum 55.6687 -0.9594 -0.5882 accepted 1\n",
      "at minimum 55.4841 -1.1413 -0.4987 accepted 1\n",
      "at minimum 55.9741 -0.9142 -0.6113 accepted 1\n",
      "at minimum 55.6291 -0.9173 -0.6149 accepted 1\n",
      "at minimum 55.5938 -2.1461 -0.2647 accepted 1\n",
      "at minimum 55.6298 -1.7444 -0.3233 accepted 1\n",
      "at minimum 57.7565 -2.4199 -0.2201 accepted 0\n",
      "at minimum 55.7616 -1.3211 -0.4254 accepted 1\n",
      "at minimum 55.6078 -1.7064 -0.3315 accepted 1\n",
      "at minimum 55.5849 -1.5687 -0.3649 accepted 1\n",
      "at minimum 55.6230 -0.9889 -0.5723 accepted 1\n",
      "at minimum 55.6724 -1.0237 -0.5504 accepted 1\n",
      "at minimum 55.6257 -1.4821 -0.3806 accepted 1\n",
      "at minimum 55.5926 -1.5546 -0.3658 accepted 1\n",
      "at minimum 55.6341 -1.3004 -0.4338 accepted 1\n",
      "at minimum 55.6027 -1.4431 -0.3913 accepted 1\n",
      "at minimum 55.6368 -0.9574 -0.5898 accepted 1\n",
      "at minimum 55.6130 -0.7980 -0.7103 accepted 1\n",
      "at minimum 55.6767 -0.5448 -1.0340 accepted 1\n",
      "at minimum 55.6533 -0.5278 -1.0679 accepted 1\n",
      "at minimum 55.6678 -0.3481 -1.6213 accepted 1\n",
      "at minimum 55.6817 -0.7749 -0.7269 accepted 1\n",
      "at minimum 55.6723 -0.7635 -0.7384 accepted 1\n",
      "at minimum 55.6617 -1.1646 -0.4850 accepted 1\n",
      "at minimum 55.5999 -1.2727 -0.4478 accepted 1\n",
      "at minimum 55.6919 -1.4631 -0.3844 accepted 1\n",
      "at minimum 55.6037 -1.2936 -0.4363 accepted 1\n",
      "at minimum 55.6430 -0.9494 -0.5963 accepted 1\n",
      "at minimum 55.5995 -1.0514 -0.5402 accepted 1\n",
      "at minimum 55.6559 -0.6214 -0.9097 accepted 1\n",
      "at minimum 55.6149 -0.7833 -0.7204 accepted 1\n",
      "at minimum 55.5025 -0.7138 -0.7938 accepted 1\n",
      "at minimum 55.6782 -1.0023 -0.5620 accepted 1\n",
      "at minimum 55.6806 -0.8861 -0.6357 accepted 1\n",
      "at minimum 55.6476 -1.0349 -0.5469 accepted 1\n",
      "at minimum 55.9484 -0.8256 -0.6774 accepted 1\n",
      "at minimum 55.3773 -0.9552 -0.5945 accepted 1\n",
      "at minimum 55.6566 -0.7499 -0.7538 accepted 1\n"
     ]
    },
    {
     "ename": "KeyboardInterrupt",
     "evalue": "",
     "output_type": "error",
     "traceback": [
      "\u001b[0;31m---------------------------------------------------------------------------\u001b[0m",
      "\u001b[0;31mKeyboardInterrupt\u001b[0m                         Traceback (most recent call last)",
      "\u001b[0;32m<ipython-input-348-a75816c8db4e>\u001b[0m in \u001b[0;36m<module>\u001b[0;34m\u001b[0m\n\u001b[1;32m      8\u001b[0m \u001b[0merror1\u001b[0m \u001b[0;34m=\u001b[0m \u001b[0;34m[\u001b[0m\u001b[0;34m]\u001b[0m\u001b[0;34m\u001b[0m\u001b[0;34m\u001b[0m\u001b[0m\n\u001b[1;32m      9\u001b[0m \u001b[0;31m#res = minimize(fun, initial_guess,options={'disp': True})\u001b[0m\u001b[0;34m\u001b[0m\u001b[0;34m\u001b[0m\u001b[0;34m\u001b[0m\u001b[0m\n\u001b[0;32m---> 10\u001b[0;31m \u001b[0mres1\u001b[0m \u001b[0;34m=\u001b[0m \u001b[0mbasinhopping\u001b[0m\u001b[0;34m(\u001b[0m\u001b[0mfun\u001b[0m\u001b[0;34m,\u001b[0m\u001b[0minitial_guess\u001b[0m\u001b[0;34m,\u001b[0m \u001b[0mcallback\u001b[0m \u001b[0;34m=\u001b[0m \u001b[0mprint_fun1\u001b[0m\u001b[0;34m)\u001b[0m\u001b[0;34m\u001b[0m\u001b[0;34m\u001b[0m\u001b[0m\n\u001b[0m\u001b[1;32m     11\u001b[0m \u001b[0mres1\u001b[0m\u001b[0;34m.\u001b[0m\u001b[0mx\u001b[0m\u001b[0;34m\u001b[0m\u001b[0;34m\u001b[0m\u001b[0m\n",
      "\u001b[0;32m//anaconda3/lib/python3.7/site-packages/scipy/optimize/_basinhopping.py\u001b[0m in \u001b[0;36mbasinhopping\u001b[0;34m(func, x0, niter, T, stepsize, minimizer_kwargs, take_step, accept_test, callback, interval, disp, niter_success, seed)\u001b[0m\n\u001b[1;32m    678\u001b[0m         \u001b[0;32mif\u001b[0m \u001b[0mcallable\u001b[0m\u001b[0;34m(\u001b[0m\u001b[0mcallback\u001b[0m\u001b[0;34m)\u001b[0m\u001b[0;34m:\u001b[0m\u001b[0;34m\u001b[0m\u001b[0;34m\u001b[0m\u001b[0m\n\u001b[1;32m    679\u001b[0m             \u001b[0;31m# should we pass a copy of x?\u001b[0m\u001b[0;34m\u001b[0m\u001b[0;34m\u001b[0m\u001b[0;34m\u001b[0m\u001b[0m\n\u001b[0;32m--> 680\u001b[0;31m             \u001b[0mval\u001b[0m \u001b[0;34m=\u001b[0m \u001b[0mcallback\u001b[0m\u001b[0;34m(\u001b[0m\u001b[0mbh\u001b[0m\u001b[0;34m.\u001b[0m\u001b[0mxtrial\u001b[0m\u001b[0;34m,\u001b[0m \u001b[0mbh\u001b[0m\u001b[0;34m.\u001b[0m\u001b[0menergy_trial\u001b[0m\u001b[0;34m,\u001b[0m \u001b[0mbh\u001b[0m\u001b[0;34m.\u001b[0m\u001b[0maccept\u001b[0m\u001b[0;34m)\u001b[0m\u001b[0;34m\u001b[0m\u001b[0;34m\u001b[0m\u001b[0m\n\u001b[0m\u001b[1;32m    681\u001b[0m             \u001b[0;32mif\u001b[0m \u001b[0mval\u001b[0m \u001b[0;32mis\u001b[0m \u001b[0;32mnot\u001b[0m \u001b[0;32mNone\u001b[0m\u001b[0;34m:\u001b[0m\u001b[0;34m\u001b[0m\u001b[0;34m\u001b[0m\u001b[0m\n\u001b[1;32m    682\u001b[0m                 \u001b[0;32mif\u001b[0m \u001b[0mval\u001b[0m\u001b[0;34m:\u001b[0m\u001b[0;34m\u001b[0m\u001b[0;34m\u001b[0m\u001b[0m\n",
      "\u001b[0;32m<ipython-input-347-03c33530ab90>\u001b[0m in \u001b[0;36mprint_fun1\u001b[0;34m(x, f, accepted)\u001b[0m\n\u001b[1;32m      1\u001b[0m \u001b[0;32mdef\u001b[0m \u001b[0mprint_fun1\u001b[0m\u001b[0;34m(\u001b[0m\u001b[0mx\u001b[0m\u001b[0;34m,\u001b[0m \u001b[0mf\u001b[0m\u001b[0;34m,\u001b[0m \u001b[0maccepted\u001b[0m\u001b[0;34m)\u001b[0m\u001b[0;34m:\u001b[0m\u001b[0;34m\u001b[0m\u001b[0;34m\u001b[0m\u001b[0m\n\u001b[1;32m      2\u001b[0m     \u001b[0;32mif\u001b[0m \u001b[0maccepted\u001b[0m \u001b[0;34m==\u001b[0m \u001b[0;36m1\u001b[0m\u001b[0;34m:\u001b[0m\u001b[0;34m\u001b[0m\u001b[0;34m\u001b[0m\u001b[0m\n\u001b[0;32m----> 3\u001b[0;31m         \u001b[0merror1\u001b[0m\u001b[0;34m.\u001b[0m\u001b[0mappend\u001b[0m\u001b[0;34m(\u001b[0m\u001b[0;34m(\u001b[0m\u001b[0mdata\u001b[0m\u001b[0;34m[\u001b[0m\u001b[0;36m1\u001b[0m\u001b[0;34m:\u001b[0m\u001b[0;34m]\u001b[0m\u001b[0;34m.\u001b[0m\u001b[0mapply\u001b[0m\u001b[0;34m(\u001b[0m\u001b[0;32mlambda\u001b[0m \u001b[0my\u001b[0m\u001b[0;34m:\u001b[0m \u001b[0mFutures\u001b[0m\u001b[0;34m(\u001b[0m\u001b[0my\u001b[0m\u001b[0;34m[\u001b[0m\u001b[0;34m'T'\u001b[0m\u001b[0;34m]\u001b[0m\u001b[0;34m,\u001b[0m \u001b[0mx\u001b[0m\u001b[0;34m[\u001b[0m\u001b[0;36m0\u001b[0m\u001b[0;34m]\u001b[0m\u001b[0;34m,\u001b[0m \u001b[0mx\u001b[0m\u001b[0;34m[\u001b[0m\u001b[0;36m1\u001b[0m\u001b[0;34m]\u001b[0m\u001b[0;34m,\u001b[0m \u001b[0mx\u001b[0m\u001b[0;34m[\u001b[0m\u001b[0;36m2\u001b[0m\u001b[0;34m]\u001b[0m\u001b[0;34m,\u001b[0m \u001b[0;36m0.03\u001b[0m\u001b[0;34m)\u001b[0m \u001b[0;34m,\u001b[0m\u001b[0maxis\u001b[0m \u001b[0;34m=\u001b[0m \u001b[0;36m1\u001b[0m\u001b[0;34m)\u001b[0m \u001b[0;34m-\u001b[0m \u001b[0mdata\u001b[0m\u001b[0;34m.\u001b[0m\u001b[0mFutures\u001b[0m\u001b[0;34m[\u001b[0m\u001b[0;36m1\u001b[0m\u001b[0;34m:\u001b[0m\u001b[0;34m]\u001b[0m\u001b[0;34m)\u001b[0m\u001b[0;34m.\u001b[0m\u001b[0mabs\u001b[0m\u001b[0;34m(\u001b[0m\u001b[0;34m)\u001b[0m\u001b[0;34m.\u001b[0m\u001b[0msum\u001b[0m\u001b[0;34m(\u001b[0m\u001b[0;34m)\u001b[0m\u001b[0;34m/\u001b[0m\u001b[0;34m(\u001b[0m\u001b[0mdata\u001b[0m\u001b[0;34m.\u001b[0m\u001b[0mshape\u001b[0m\u001b[0;34m[\u001b[0m\u001b[0;36m0\u001b[0m\u001b[0;34m]\u001b[0m\u001b[0;34m)\u001b[0m\u001b[0;34m)\u001b[0m\u001b[0;34m\u001b[0m\u001b[0;34m\u001b[0m\u001b[0m\n\u001b[0m\u001b[1;32m      4\u001b[0m     \u001b[0mprint\u001b[0m\u001b[0;34m(\u001b[0m\u001b[0;34m\"at minimum %.4f %.4f %.4f accepted %d\"\u001b[0m \u001b[0;34m%\u001b[0m \u001b[0;34m(\u001b[0m\u001b[0mx\u001b[0m\u001b[0;34m[\u001b[0m\u001b[0;36m0\u001b[0m\u001b[0;34m]\u001b[0m\u001b[0;34m,\u001b[0m\u001b[0mx\u001b[0m\u001b[0;34m[\u001b[0m\u001b[0;36m1\u001b[0m\u001b[0;34m]\u001b[0m\u001b[0;34m,\u001b[0m\u001b[0mx\u001b[0m\u001b[0;34m[\u001b[0m\u001b[0;36m2\u001b[0m\u001b[0;34m]\u001b[0m\u001b[0;34m,\u001b[0m \u001b[0mint\u001b[0m\u001b[0;34m(\u001b[0m\u001b[0maccepted\u001b[0m\u001b[0;34m)\u001b[0m\u001b[0;34m)\u001b[0m\u001b[0;34m)\u001b[0m\u001b[0;34m\u001b[0m\u001b[0;34m\u001b[0m\u001b[0m\n",
      "\u001b[0;32m//anaconda3/lib/python3.7/site-packages/pandas/core/frame.py\u001b[0m in \u001b[0;36mapply\u001b[0;34m(self, func, axis, broadcast, raw, reduce, result_type, args, **kwds)\u001b[0m\n\u001b[1;32m   6485\u001b[0m                          \u001b[0margs\u001b[0m\u001b[0;34m=\u001b[0m\u001b[0margs\u001b[0m\u001b[0;34m,\u001b[0m\u001b[0;34m\u001b[0m\u001b[0;34m\u001b[0m\u001b[0m\n\u001b[1;32m   6486\u001b[0m                          kwds=kwds)\n\u001b[0;32m-> 6487\u001b[0;31m         \u001b[0;32mreturn\u001b[0m \u001b[0mop\u001b[0m\u001b[0;34m.\u001b[0m\u001b[0mget_result\u001b[0m\u001b[0;34m(\u001b[0m\u001b[0;34m)\u001b[0m\u001b[0;34m\u001b[0m\u001b[0;34m\u001b[0m\u001b[0m\n\u001b[0m\u001b[1;32m   6488\u001b[0m \u001b[0;34m\u001b[0m\u001b[0m\n\u001b[1;32m   6489\u001b[0m     \u001b[0;32mdef\u001b[0m \u001b[0mapplymap\u001b[0m\u001b[0;34m(\u001b[0m\u001b[0mself\u001b[0m\u001b[0;34m,\u001b[0m \u001b[0mfunc\u001b[0m\u001b[0;34m)\u001b[0m\u001b[0;34m:\u001b[0m\u001b[0;34m\u001b[0m\u001b[0;34m\u001b[0m\u001b[0m\n",
      "\u001b[0;32m//anaconda3/lib/python3.7/site-packages/pandas/core/apply.py\u001b[0m in \u001b[0;36mget_result\u001b[0;34m(self)\u001b[0m\n\u001b[1;32m    149\u001b[0m             \u001b[0;32mreturn\u001b[0m \u001b[0mself\u001b[0m\u001b[0;34m.\u001b[0m\u001b[0mapply_raw\u001b[0m\u001b[0;34m(\u001b[0m\u001b[0;34m)\u001b[0m\u001b[0;34m\u001b[0m\u001b[0;34m\u001b[0m\u001b[0m\n\u001b[1;32m    150\u001b[0m \u001b[0;34m\u001b[0m\u001b[0m\n\u001b[0;32m--> 151\u001b[0;31m         \u001b[0;32mreturn\u001b[0m \u001b[0mself\u001b[0m\u001b[0;34m.\u001b[0m\u001b[0mapply_standard\u001b[0m\u001b[0;34m(\u001b[0m\u001b[0;34m)\u001b[0m\u001b[0;34m\u001b[0m\u001b[0;34m\u001b[0m\u001b[0m\n\u001b[0m\u001b[1;32m    152\u001b[0m \u001b[0;34m\u001b[0m\u001b[0m\n\u001b[1;32m    153\u001b[0m     \u001b[0;32mdef\u001b[0m \u001b[0mapply_empty_result\u001b[0m\u001b[0;34m(\u001b[0m\u001b[0mself\u001b[0m\u001b[0;34m)\u001b[0m\u001b[0;34m:\u001b[0m\u001b[0;34m\u001b[0m\u001b[0;34m\u001b[0m\u001b[0m\n",
      "\u001b[0;32m//anaconda3/lib/python3.7/site-packages/pandas/core/apply.py\u001b[0m in \u001b[0;36mapply_standard\u001b[0;34m(self)\u001b[0m\n\u001b[1;32m    249\u001b[0m                                           \u001b[0maxis\u001b[0m\u001b[0;34m=\u001b[0m\u001b[0mself\u001b[0m\u001b[0;34m.\u001b[0m\u001b[0maxis\u001b[0m\u001b[0;34m,\u001b[0m\u001b[0;34m\u001b[0m\u001b[0;34m\u001b[0m\u001b[0m\n\u001b[1;32m    250\u001b[0m                                           \u001b[0mdummy\u001b[0m\u001b[0;34m=\u001b[0m\u001b[0mdummy\u001b[0m\u001b[0;34m,\u001b[0m\u001b[0;34m\u001b[0m\u001b[0;34m\u001b[0m\u001b[0m\n\u001b[0;32m--> 251\u001b[0;31m                                           labels=labels)\n\u001b[0m\u001b[1;32m    252\u001b[0m                 \u001b[0;32mreturn\u001b[0m \u001b[0mself\u001b[0m\u001b[0;34m.\u001b[0m\u001b[0mobj\u001b[0m\u001b[0;34m.\u001b[0m\u001b[0m_constructor_sliced\u001b[0m\u001b[0;34m(\u001b[0m\u001b[0mresult\u001b[0m\u001b[0;34m,\u001b[0m \u001b[0mindex\u001b[0m\u001b[0;34m=\u001b[0m\u001b[0mlabels\u001b[0m\u001b[0;34m)\u001b[0m\u001b[0;34m\u001b[0m\u001b[0;34m\u001b[0m\u001b[0m\n\u001b[1;32m    253\u001b[0m             \u001b[0;32mexcept\u001b[0m \u001b[0mException\u001b[0m\u001b[0;34m:\u001b[0m\u001b[0;34m\u001b[0m\u001b[0;34m\u001b[0m\u001b[0m\n",
      "\u001b[0;32mpandas/_libs/reduction.pyx\u001b[0m in \u001b[0;36mpandas._libs.reduction.reduce\u001b[0;34m()\u001b[0m\n",
      "\u001b[0;32mpandas/_libs/reduction.pyx\u001b[0m in \u001b[0;36mpandas._libs.reduction.Reducer.get_result\u001b[0;34m()\u001b[0m\n",
      "\u001b[0;32m<ipython-input-347-03c33530ab90>\u001b[0m in \u001b[0;36m<lambda>\u001b[0;34m(y)\u001b[0m\n\u001b[1;32m      1\u001b[0m \u001b[0;32mdef\u001b[0m \u001b[0mprint_fun1\u001b[0m\u001b[0;34m(\u001b[0m\u001b[0mx\u001b[0m\u001b[0;34m,\u001b[0m \u001b[0mf\u001b[0m\u001b[0;34m,\u001b[0m \u001b[0maccepted\u001b[0m\u001b[0;34m)\u001b[0m\u001b[0;34m:\u001b[0m\u001b[0;34m\u001b[0m\u001b[0;34m\u001b[0m\u001b[0m\n\u001b[1;32m      2\u001b[0m     \u001b[0;32mif\u001b[0m \u001b[0maccepted\u001b[0m \u001b[0;34m==\u001b[0m \u001b[0;36m1\u001b[0m\u001b[0;34m:\u001b[0m\u001b[0;34m\u001b[0m\u001b[0;34m\u001b[0m\u001b[0m\n\u001b[0;32m----> 3\u001b[0;31m         \u001b[0merror1\u001b[0m\u001b[0;34m.\u001b[0m\u001b[0mappend\u001b[0m\u001b[0;34m(\u001b[0m\u001b[0;34m(\u001b[0m\u001b[0mdata\u001b[0m\u001b[0;34m[\u001b[0m\u001b[0;36m1\u001b[0m\u001b[0;34m:\u001b[0m\u001b[0;34m]\u001b[0m\u001b[0;34m.\u001b[0m\u001b[0mapply\u001b[0m\u001b[0;34m(\u001b[0m\u001b[0;32mlambda\u001b[0m \u001b[0my\u001b[0m\u001b[0;34m:\u001b[0m \u001b[0mFutures\u001b[0m\u001b[0;34m(\u001b[0m\u001b[0my\u001b[0m\u001b[0;34m[\u001b[0m\u001b[0;34m'T'\u001b[0m\u001b[0;34m]\u001b[0m\u001b[0;34m,\u001b[0m \u001b[0mx\u001b[0m\u001b[0;34m[\u001b[0m\u001b[0;36m0\u001b[0m\u001b[0;34m]\u001b[0m\u001b[0;34m,\u001b[0m \u001b[0mx\u001b[0m\u001b[0;34m[\u001b[0m\u001b[0;36m1\u001b[0m\u001b[0;34m]\u001b[0m\u001b[0;34m,\u001b[0m \u001b[0mx\u001b[0m\u001b[0;34m[\u001b[0m\u001b[0;36m2\u001b[0m\u001b[0;34m]\u001b[0m\u001b[0;34m,\u001b[0m \u001b[0;36m0.03\u001b[0m\u001b[0;34m)\u001b[0m \u001b[0;34m,\u001b[0m\u001b[0maxis\u001b[0m \u001b[0;34m=\u001b[0m \u001b[0;36m1\u001b[0m\u001b[0;34m)\u001b[0m \u001b[0;34m-\u001b[0m \u001b[0mdata\u001b[0m\u001b[0;34m.\u001b[0m\u001b[0mFutures\u001b[0m\u001b[0;34m[\u001b[0m\u001b[0;36m1\u001b[0m\u001b[0;34m:\u001b[0m\u001b[0;34m]\u001b[0m\u001b[0;34m)\u001b[0m\u001b[0;34m.\u001b[0m\u001b[0mabs\u001b[0m\u001b[0;34m(\u001b[0m\u001b[0;34m)\u001b[0m\u001b[0;34m.\u001b[0m\u001b[0msum\u001b[0m\u001b[0;34m(\u001b[0m\u001b[0;34m)\u001b[0m\u001b[0;34m/\u001b[0m\u001b[0;34m(\u001b[0m\u001b[0mdata\u001b[0m\u001b[0;34m.\u001b[0m\u001b[0mshape\u001b[0m\u001b[0;34m[\u001b[0m\u001b[0;36m0\u001b[0m\u001b[0;34m]\u001b[0m\u001b[0;34m)\u001b[0m\u001b[0;34m)\u001b[0m\u001b[0;34m\u001b[0m\u001b[0;34m\u001b[0m\u001b[0m\n\u001b[0m\u001b[1;32m      4\u001b[0m     \u001b[0mprint\u001b[0m\u001b[0;34m(\u001b[0m\u001b[0;34m\"at minimum %.4f %.4f %.4f accepted %d\"\u001b[0m \u001b[0;34m%\u001b[0m \u001b[0;34m(\u001b[0m\u001b[0mx\u001b[0m\u001b[0;34m[\u001b[0m\u001b[0;36m0\u001b[0m\u001b[0;34m]\u001b[0m\u001b[0;34m,\u001b[0m\u001b[0mx\u001b[0m\u001b[0;34m[\u001b[0m\u001b[0;36m1\u001b[0m\u001b[0;34m]\u001b[0m\u001b[0;34m,\u001b[0m\u001b[0mx\u001b[0m\u001b[0;34m[\u001b[0m\u001b[0;36m2\u001b[0m\u001b[0;34m]\u001b[0m\u001b[0;34m,\u001b[0m \u001b[0mint\u001b[0m\u001b[0;34m(\u001b[0m\u001b[0maccepted\u001b[0m\u001b[0;34m)\u001b[0m\u001b[0;34m)\u001b[0m\u001b[0;34m)\u001b[0m\u001b[0;34m\u001b[0m\u001b[0;34m\u001b[0m\u001b[0m\n",
      "\u001b[0;32m<ipython-input-348-a75816c8db4e>\u001b[0m in \u001b[0;36mFutures\u001b[0;34m(T, S0, sigma, rho, r)\u001b[0m\n\u001b[1;32m      3\u001b[0m     \u001b[0ma\u001b[0m \u001b[0;34m=\u001b[0m \u001b[0;34m(\u001b[0m\u001b[0mr\u001b[0m \u001b[0;34m-\u001b[0m \u001b[0mtheta\u001b[0m \u001b[0;34m+\u001b[0m \u001b[0meta\u001b[0m\u001b[0;34m**\u001b[0m\u001b[0;36m2\u001b[0m \u001b[0;34m/\u001b[0m \u001b[0;36m2.0\u001b[0m\u001b[0;34m*\u001b[0m\u001b[0mk\u001b[0m\u001b[0;34m**\u001b[0m\u001b[0;36m2\u001b[0m \u001b[0;34m-\u001b[0m \u001b[0msigma\u001b[0m\u001b[0;34m*\u001b[0m\u001b[0meta\u001b[0m\u001b[0;34m*\u001b[0m\u001b[0mrho\u001b[0m \u001b[0;34m/\u001b[0m \u001b[0mk\u001b[0m\u001b[0;34m)\u001b[0m \u001b[0;34m*\u001b[0m \u001b[0mT\u001b[0m \u001b[0;34m+\u001b[0m \u001b[0meta\u001b[0m\u001b[0;34m**\u001b[0m\u001b[0;36m2\u001b[0m\u001b[0;34m*\u001b[0m\u001b[0;34m(\u001b[0m\u001b[0;36m1\u001b[0m \u001b[0;34m-\u001b[0m \u001b[0mnp\u001b[0m\u001b[0;34m.\u001b[0m\u001b[0mexp\u001b[0m\u001b[0;34m(\u001b[0m\u001b[0;34m-\u001b[0m\u001b[0;36m2.0\u001b[0m\u001b[0;34m*\u001b[0m\u001b[0mk\u001b[0m\u001b[0;34m*\u001b[0m\u001b[0mT\u001b[0m\u001b[0;34m)\u001b[0m\u001b[0;34m)\u001b[0m \u001b[0;34m/\u001b[0m \u001b[0;36m4.0\u001b[0m\u001b[0;34m*\u001b[0m\u001b[0mk\u001b[0m\u001b[0;34m**\u001b[0m\u001b[0;36m3\u001b[0m\u001b[0;31m\\\u001b[0m\u001b[0;34m\u001b[0m\u001b[0;34m\u001b[0m\u001b[0m\n\u001b[1;32m      4\u001b[0m     \u001b[0;34m+\u001b[0m \u001b[0;34m(\u001b[0m\u001b[0mk\u001b[0m\u001b[0;34m*\u001b[0m\u001b[0mtheta\u001b[0m \u001b[0;34m+\u001b[0m \u001b[0msigma\u001b[0m\u001b[0;34m*\u001b[0m\u001b[0meta\u001b[0m\u001b[0;34m*\u001b[0m\u001b[0mrho\u001b[0m \u001b[0;34m-\u001b[0m \u001b[0meta\u001b[0m\u001b[0;34m**\u001b[0m\u001b[0;36m2\u001b[0m\u001b[0;34m/\u001b[0m\u001b[0mk\u001b[0m\u001b[0;34m)\u001b[0m \u001b[0;34m*\u001b[0m \u001b[0;34m(\u001b[0m\u001b[0;36m1\u001b[0m \u001b[0;34m-\u001b[0m \u001b[0mnp\u001b[0m\u001b[0;34m.\u001b[0m\u001b[0mexp\u001b[0m\u001b[0;34m(\u001b[0m\u001b[0;34m-\u001b[0m\u001b[0mk\u001b[0m\u001b[0;34m*\u001b[0m\u001b[0mT\u001b[0m\u001b[0;34m)\u001b[0m\u001b[0;34m)\u001b[0m \u001b[0;34m/\u001b[0m \u001b[0mk\u001b[0m\u001b[0;34m**\u001b[0m\u001b[0;36m2\u001b[0m\u001b[0;34m\u001b[0m\u001b[0;34m\u001b[0m\u001b[0m\n\u001b[0;32m----> 5\u001b[0;31m     \u001b[0;32mreturn\u001b[0m \u001b[0mS0\u001b[0m \u001b[0;34m*\u001b[0m \u001b[0mnp\u001b[0m\u001b[0;34m.\u001b[0m\u001b[0mexp\u001b[0m\u001b[0;34m(\u001b[0m\u001b[0ma\u001b[0m \u001b[0;34m-\u001b[0m \u001b[0mb\u001b[0m\u001b[0;34m*\u001b[0m\u001b[0my0\u001b[0m\u001b[0;34m)\u001b[0m\u001b[0;34m\u001b[0m\u001b[0;34m\u001b[0m\u001b[0m\n\u001b[0m\u001b[1;32m      6\u001b[0m \u001b[0mfun\u001b[0m \u001b[0;34m=\u001b[0m \u001b[0;32mlambda\u001b[0m \u001b[0mx\u001b[0m\u001b[0;34m:\u001b[0m \u001b[0;34m(\u001b[0m\u001b[0mdata\u001b[0m\u001b[0;34m[\u001b[0m\u001b[0;36m1\u001b[0m\u001b[0;34m:\u001b[0m\u001b[0;34m]\u001b[0m\u001b[0;34m.\u001b[0m\u001b[0mapply\u001b[0m\u001b[0;34m(\u001b[0m\u001b[0;32mlambda\u001b[0m \u001b[0my\u001b[0m\u001b[0;34m:\u001b[0m \u001b[0mFutures\u001b[0m\u001b[0;34m(\u001b[0m\u001b[0my\u001b[0m\u001b[0;34m[\u001b[0m\u001b[0;34m'T'\u001b[0m\u001b[0;34m]\u001b[0m\u001b[0;34m,\u001b[0m \u001b[0mx\u001b[0m\u001b[0;34m[\u001b[0m\u001b[0;36m0\u001b[0m\u001b[0;34m]\u001b[0m\u001b[0;34m,\u001b[0m \u001b[0mx\u001b[0m\u001b[0;34m[\u001b[0m\u001b[0;36m1\u001b[0m\u001b[0;34m]\u001b[0m\u001b[0;34m,\u001b[0m \u001b[0mx\u001b[0m\u001b[0;34m[\u001b[0m\u001b[0;36m2\u001b[0m\u001b[0;34m]\u001b[0m\u001b[0;34m,\u001b[0m \u001b[0;36m0.03\u001b[0m\u001b[0;34m)\u001b[0m \u001b[0;34m,\u001b[0m\u001b[0maxis\u001b[0m \u001b[0;34m=\u001b[0m \u001b[0;36m1\u001b[0m\u001b[0;34m)\u001b[0m \u001b[0;34m-\u001b[0m \u001b[0mdata\u001b[0m\u001b[0;34m.\u001b[0m\u001b[0mFutures\u001b[0m\u001b[0;34m[\u001b[0m\u001b[0;36m1\u001b[0m\u001b[0;34m:\u001b[0m\u001b[0;34m]\u001b[0m\u001b[0;34m)\u001b[0m\u001b[0;34m.\u001b[0m\u001b[0mabs\u001b[0m\u001b[0;34m(\u001b[0m\u001b[0;34m)\u001b[0m\u001b[0;34m.\u001b[0m\u001b[0msum\u001b[0m\u001b[0;34m(\u001b[0m\u001b[0;34m)\u001b[0m\u001b[0;34m\u001b[0m\u001b[0;34m\u001b[0m\u001b[0m\n\u001b[1;32m      7\u001b[0m \u001b[0minitial_guess\u001b[0m \u001b[0;34m=\u001b[0m \u001b[0;34m(\u001b[0m\u001b[0;36m1\u001b[0m\u001b[0;34m,\u001b[0m\u001b[0;36m1\u001b[0m\u001b[0;34m,\u001b[0m\u001b[0;36m1\u001b[0m\u001b[0;34m)\u001b[0m\u001b[0;34m\u001b[0m\u001b[0;34m\u001b[0m\u001b[0m\n",
      "\u001b[0;31mKeyboardInterrupt\u001b[0m: "
     ]
    }
   ],
   "source": [
    "def Futures(T, S0, sigma, rho, r):\n",
    "    b = (1 - np.exp(-k * T)) / k\n",
    "    a = (r - theta + eta**2 / 2.0*k**2 - sigma*eta*rho / k) * T + eta**2*(1 - np.exp(-2.0*k*T)) / 4.0*k**3\\\n",
    "    + (k*theta + sigma*eta*rho - eta**2/k) * (1 - np.exp(-k*T)) / k**2\n",
    "    return S0 * np.exp(a - b*y0)\n",
    "fun = lambda x: (data[1:].apply(lambda y: Futures(y['T'], x[0], x[1], x[2], 0.03) ,axis = 1) - data.Futures[1:]).abs().sum()\n",
    "initial_guess = (1,1,1)\n",
    "error1 = []\n",
    "#res = minimize(fun, initial_guess,options={'disp': True})\n",
    "res1 = basinhopping(fun,initial_guess, callback = print_fun1)\n",
    "res1.x"
   ]
  },
  {
   "cell_type": "code",
   "execution_count": 349,
   "metadata": {},
   "outputs": [
    {
     "data": {
      "text/html": [
       "<div>\n",
       "<style scoped>\n",
       "    .dataframe tbody tr th:only-of-type {\n",
       "        vertical-align: middle;\n",
       "    }\n",
       "\n",
       "    .dataframe tbody tr th {\n",
       "        vertical-align: top;\n",
       "    }\n",
       "\n",
       "    .dataframe thead th {\n",
       "        text-align: right;\n",
       "    }\n",
       "</style>\n",
       "<table border=\"1\" class=\"dataframe\">\n",
       "  <thead>\n",
       "    <tr style=\"text-align: right;\">\n",
       "      <th></th>\n",
       "      <th>Contract</th>\n",
       "      <th>Futures</th>\n",
       "      <th>T</th>\n",
       "      <th>Bt</th>\n",
       "      <th>FB</th>\n",
       "      <th>ratio_FB</th>\n",
       "      <th>Y</th>\n",
       "      <th>ratio_Y</th>\n",
       "      <th>F</th>\n",
       "    </tr>\n",
       "    <tr>\n",
       "      <th>SettlementDate</th>\n",
       "      <th></th>\n",
       "      <th></th>\n",
       "      <th></th>\n",
       "      <th></th>\n",
       "      <th></th>\n",
       "      <th></th>\n",
       "      <th></th>\n",
       "      <th></th>\n",
       "      <th></th>\n",
       "    </tr>\n",
       "  </thead>\n",
       "  <tbody>\n",
       "    <tr>\n",
       "      <th>2019-11-20</th>\n",
       "      <td>Dec 2019</td>\n",
       "      <td>56.23</td>\n",
       "      <td>0.103175</td>\n",
       "      <td>1.711965</td>\n",
       "      <td>96.263801</td>\n",
       "      <td>0.000000</td>\n",
       "      <td>1.001457</td>\n",
       "      <td>0.000000</td>\n",
       "      <td>55.530299</td>\n",
       "    </tr>\n",
       "    <tr>\n",
       "      <th>2019-12-19</th>\n",
       "      <td>Jan 2020</td>\n",
       "      <td>56.27</td>\n",
       "      <td>0.218254</td>\n",
       "      <td>1.706028</td>\n",
       "      <td>95.998176</td>\n",
       "      <td>1.002767</td>\n",
       "      <td>1.002980</td>\n",
       "      <td>0.998481</td>\n",
       "      <td>55.364198</td>\n",
       "    </tr>\n",
       "    <tr>\n",
       "      <th>2020-01-21</th>\n",
       "      <td>Feb 2020</td>\n",
       "      <td>56.10</td>\n",
       "      <td>0.349206</td>\n",
       "      <td>1.699603</td>\n",
       "      <td>95.347729</td>\n",
       "      <td>1.006822</td>\n",
       "      <td>1.004583</td>\n",
       "      <td>0.998404</td>\n",
       "      <td>55.178657</td>\n",
       "    </tr>\n",
       "    <tr>\n",
       "      <th>2020-02-20</th>\n",
       "      <td>Mar 2020</td>\n",
       "      <td>55.86</td>\n",
       "      <td>0.468254</td>\n",
       "      <td>1.694063</td>\n",
       "      <td>94.630353</td>\n",
       "      <td>1.007581</td>\n",
       "      <td>1.005920</td>\n",
       "      <td>0.998671</td>\n",
       "      <td>55.013210</td>\n",
       "    </tr>\n",
       "    <tr>\n",
       "      <th>2020-03-20</th>\n",
       "      <td>Apr 2020</td>\n",
       "      <td>55.44</td>\n",
       "      <td>0.583333</td>\n",
       "      <td>1.688974</td>\n",
       "      <td>93.636719</td>\n",
       "      <td>1.010612</td>\n",
       "      <td>1.007104</td>\n",
       "      <td>0.998824</td>\n",
       "      <td>54.856216</td>\n",
       "    </tr>\n",
       "    <tr>\n",
       "      <th>2020-04-21</th>\n",
       "      <td>May 2020</td>\n",
       "      <td>55.08</td>\n",
       "      <td>0.710317</td>\n",
       "      <td>1.683657</td>\n",
       "      <td>92.735816</td>\n",
       "      <td>1.009715</td>\n",
       "      <td>1.008288</td>\n",
       "      <td>0.998826</td>\n",
       "      <td>54.686358</td>\n",
       "    </tr>\n",
       "    <tr>\n",
       "      <th>2020-05-19</th>\n",
       "      <td>Jun 2020</td>\n",
       "      <td>54.70</td>\n",
       "      <td>0.821429</td>\n",
       "      <td>1.679256</td>\n",
       "      <td>91.855293</td>\n",
       "      <td>1.009586</td>\n",
       "      <td>1.009219</td>\n",
       "      <td>0.999078</td>\n",
       "      <td>54.540658</td>\n",
       "    </tr>\n",
       "    <tr>\n",
       "      <th>2020-06-22</th>\n",
       "      <td>Jul 2020</td>\n",
       "      <td>54.29</td>\n",
       "      <td>0.956349</td>\n",
       "      <td>1.674221</td>\n",
       "      <td>90.893451</td>\n",
       "      <td>1.010582</td>\n",
       "      <td>1.010218</td>\n",
       "      <td>0.999011</td>\n",
       "      <td>54.367433</td>\n",
       "    </tr>\n",
       "    <tr>\n",
       "      <th>2020-07-21</th>\n",
       "      <td>Aug 2020</td>\n",
       "      <td>54.01</td>\n",
       "      <td>1.071429</td>\n",
       "      <td>1.670189</td>\n",
       "      <td>90.206903</td>\n",
       "      <td>1.007611</td>\n",
       "      <td>1.010958</td>\n",
       "      <td>0.999268</td>\n",
       "      <td>54.222910</td>\n",
       "    </tr>\n",
       "    <tr>\n",
       "      <th>2020-08-20</th>\n",
       "      <td>Sep 2020</td>\n",
       "      <td>53.62</td>\n",
       "      <td>1.190476</td>\n",
       "      <td>1.666267</td>\n",
       "      <td>89.345237</td>\n",
       "      <td>1.009644</td>\n",
       "      <td>1.011615</td>\n",
       "      <td>0.999350</td>\n",
       "      <td>54.076554</td>\n",
       "    </tr>\n",
       "    <tr>\n",
       "      <th>2020-09-22</th>\n",
       "      <td>Oct 2020</td>\n",
       "      <td>53.08</td>\n",
       "      <td>1.321429</td>\n",
       "      <td>1.662239</td>\n",
       "      <td>88.231671</td>\n",
       "      <td>1.012621</td>\n",
       "      <td>1.012213</td>\n",
       "      <td>0.999409</td>\n",
       "      <td>53.919294</td>\n",
       "    </tr>\n",
       "    <tr>\n",
       "      <th>2020-10-20</th>\n",
       "      <td>Nov 2020</td>\n",
       "      <td>53.42</td>\n",
       "      <td>1.432540</td>\n",
       "      <td>1.659053</td>\n",
       "      <td>88.626600</td>\n",
       "      <td>0.995544</td>\n",
       "      <td>1.012620</td>\n",
       "      <td>0.999598</td>\n",
       "      <td>53.788949</td>\n",
       "    </tr>\n",
       "    <tr>\n",
       "      <th>2020-11-20</th>\n",
       "      <td>Dec 2020</td>\n",
       "      <td>53.02</td>\n",
       "      <td>1.555556</td>\n",
       "      <td>1.655766</td>\n",
       "      <td>87.788739</td>\n",
       "      <td>1.009544</td>\n",
       "      <td>1.012964</td>\n",
       "      <td>0.999660</td>\n",
       "      <td>53.647975</td>\n",
       "    </tr>\n",
       "    <tr>\n",
       "      <th>2021-12-21</th>\n",
       "      <td>Jan 2021</td>\n",
       "      <td>52.17</td>\n",
       "      <td>3.126984</td>\n",
       "      <td>1.633935</td>\n",
       "      <td>85.242371</td>\n",
       "      <td>1.029872</td>\n",
       "      <td>1.008813</td>\n",
       "      <td>1.004115</td>\n",
       "      <td>52.169999</td>\n",
       "    </tr>\n",
       "    <tr>\n",
       "      <th>2021-05-20</th>\n",
       "      <td>Jun 2021</td>\n",
       "      <td>52.18</td>\n",
       "      <td>2.273810</td>\n",
       "      <td>1.641381</td>\n",
       "      <td>85.647237</td>\n",
       "      <td>0.995273</td>\n",
       "      <td>1.012873</td>\n",
       "      <td>0.995991</td>\n",
       "      <td>52.896467</td>\n",
       "    </tr>\n",
       "    <tr>\n",
       "      <th>2021-11-19</th>\n",
       "      <td>Dec 2021</td>\n",
       "      <td>51.75</td>\n",
       "      <td>3.000000</td>\n",
       "      <td>1.634436</td>\n",
       "      <td>84.582068</td>\n",
       "      <td>1.012593</td>\n",
       "      <td>1.009637</td>\n",
       "      <td>1.003205</td>\n",
       "      <td>52.266212</td>\n",
       "    </tr>\n",
       "    <tr>\n",
       "      <th>2022-11-21</th>\n",
       "      <td>Dec 2022</td>\n",
       "      <td>51.64</td>\n",
       "      <td>4.456349</td>\n",
       "      <td>1.639795</td>\n",
       "      <td>84.679007</td>\n",
       "      <td>0.998855</td>\n",
       "      <td>0.997938</td>\n",
       "      <td>1.011723</td>\n",
       "      <td>51.431667</td>\n",
       "    </tr>\n",
       "    <tr>\n",
       "      <th>2023-11-20</th>\n",
       "      <td>Dec 2023</td>\n",
       "      <td>51.83</td>\n",
       "      <td>5.900794</td>\n",
       "      <td>1.665171</td>\n",
       "      <td>86.305815</td>\n",
       "      <td>0.981151</td>\n",
       "      <td>0.991119</td>\n",
       "      <td>1.006880</td>\n",
       "      <td>51.253051</td>\n",
       "    </tr>\n",
       "    <tr>\n",
       "      <th>2024-05-21</th>\n",
       "      <td>Jun 2024</td>\n",
       "      <td>51.45</td>\n",
       "      <td>6.626984</td>\n",
       "      <td>1.683732</td>\n",
       "      <td>86.627998</td>\n",
       "      <td>0.996281</td>\n",
       "      <td>0.996281</td>\n",
       "      <td>0.994819</td>\n",
       "      <td>51.450002</td>\n",
       "    </tr>\n",
       "  </tbody>\n",
       "</table>\n",
       "</div>"
      ],
      "text/plain": [
       "                Contract  Futures         T        Bt         FB  ratio_FB  \\\n",
       "SettlementDate                                                               \n",
       "2019-11-20      Dec 2019    56.23  0.103175  1.711965  96.263801  0.000000   \n",
       "2019-12-19      Jan 2020    56.27  0.218254  1.706028  95.998176  1.002767   \n",
       "2020-01-21      Feb 2020    56.10  0.349206  1.699603  95.347729  1.006822   \n",
       "2020-02-20      Mar 2020    55.86  0.468254  1.694063  94.630353  1.007581   \n",
       "2020-03-20      Apr 2020    55.44  0.583333  1.688974  93.636719  1.010612   \n",
       "2020-04-21      May 2020    55.08  0.710317  1.683657  92.735816  1.009715   \n",
       "2020-05-19      Jun 2020    54.70  0.821429  1.679256  91.855293  1.009586   \n",
       "2020-06-22      Jul 2020    54.29  0.956349  1.674221  90.893451  1.010582   \n",
       "2020-07-21      Aug 2020    54.01  1.071429  1.670189  90.206903  1.007611   \n",
       "2020-08-20      Sep 2020    53.62  1.190476  1.666267  89.345237  1.009644   \n",
       "2020-09-22      Oct 2020    53.08  1.321429  1.662239  88.231671  1.012621   \n",
       "2020-10-20      Nov 2020    53.42  1.432540  1.659053  88.626600  0.995544   \n",
       "2020-11-20      Dec 2020    53.02  1.555556  1.655766  87.788739  1.009544   \n",
       "2021-12-21      Jan 2021    52.17  3.126984  1.633935  85.242371  1.029872   \n",
       "2021-05-20      Jun 2021    52.18  2.273810  1.641381  85.647237  0.995273   \n",
       "2021-11-19      Dec 2021    51.75  3.000000  1.634436  84.582068  1.012593   \n",
       "2022-11-21      Dec 2022    51.64  4.456349  1.639795  84.679007  0.998855   \n",
       "2023-11-20      Dec 2023    51.83  5.900794  1.665171  86.305815  0.981151   \n",
       "2024-05-21      Jun 2024    51.45  6.626984  1.683732  86.627998  0.996281   \n",
       "\n",
       "                       Y   ratio_Y          F  \n",
       "SettlementDate                                 \n",
       "2019-11-20      1.001457  0.000000  55.530299  \n",
       "2019-12-19      1.002980  0.998481  55.364198  \n",
       "2020-01-21      1.004583  0.998404  55.178657  \n",
       "2020-02-20      1.005920  0.998671  55.013210  \n",
       "2020-03-20      1.007104  0.998824  54.856216  \n",
       "2020-04-21      1.008288  0.998826  54.686358  \n",
       "2020-05-19      1.009219  0.999078  54.540658  \n",
       "2020-06-22      1.010218  0.999011  54.367433  \n",
       "2020-07-21      1.010958  0.999268  54.222910  \n",
       "2020-08-20      1.011615  0.999350  54.076554  \n",
       "2020-09-22      1.012213  0.999409  53.919294  \n",
       "2020-10-20      1.012620  0.999598  53.788949  \n",
       "2020-11-20      1.012964  0.999660  53.647975  \n",
       "2021-12-21      1.008813  1.004115  52.169999  \n",
       "2021-05-20      1.012873  0.995991  52.896467  \n",
       "2021-11-19      1.009637  1.003205  52.266212  \n",
       "2022-11-21      0.997938  1.011723  51.431667  \n",
       "2023-11-20      0.991119  1.006880  51.253051  \n",
       "2024-05-21      0.996281  0.994819  51.450002  "
      ]
     },
     "execution_count": 349,
     "metadata": {},
     "output_type": "execute_result"
    }
   ],
   "source": [
    "[S0, sigma, rho] = [54.74407541, -0.546804  ,  0.09507821]\n",
    "r = 0.03\n",
    "data['F'] = Futures(data['T'], S0, sigma, rho, r)\n",
    "data"
   ]
  },
  {
   "cell_type": "code",
   "execution_count": 350,
   "metadata": {},
   "outputs": [
    {
     "data": {
      "image/png": "[encoded data removed]",
      "text/plain": [
       "<Figure size 432x288 with 1 Axes>"
      ]
     },
     "metadata": {
      "needs_background": "light"
     },
     "output_type": "display_data"
    }
   ],
   "source": [
    "list1 = data['Futures'].tolist()\n",
    "list2 = data['F'].tolist()\n",
    "futures = pd.DataFrame({'Futures': list1, 'F': list2})\n",
    "futures.plot()\n",
    "plt.grid()\n",
    "#plt.ylim(0.9, 1.1)\n",
    "plt.ylabel('Future_prices')\n",
    "plt.legend()\n",
    "plt.show()"
   ]
  },
  {
   "cell_type": "markdown",
   "metadata": {},
   "source": [
    "# Question 4"
   ]
  },
  {
   "cell_type": "code",
   "execution_count": 410,
   "metadata": {},
   "outputs": [],
   "source": [
    "T  = 3/12 \n",
    "timestep = 200\n",
    "\n",
    "Ti = 201\n",
    "Tj = 201\n",
    "\n",
    "def Grid(Ti,Tj,T,timestep):\n",
    "    # input hyperparamters\n",
    "    bound_up_S  = 111.36\n",
    "    bound_low_S = 0\n",
    "    bound_up_y  = 1\n",
    "    bound_low_y = -1\n",
    "    \n",
    "    \n",
    "    T = T\n",
    "    timestep = timestep\n",
    "    \n",
    "    line_S      = np.linspace(bound_low_S, bound_up_S, Ti)\n",
    "    line_y      = np.linspace(bound_low_y, bound_up_y, Tj)\n",
    "    line_t      = np.linspace(0, T, timestep)\n",
    "    S,t,y = np.meshgrid(line_S,line_t,line_y)\n",
    "    \n",
    "    dS = (bound_up_S - bound_low_S) / Ti\n",
    "    dy = (bound_up_y - bound_low_y) / Tj\n",
    "    dt = T / timestep\n",
    "    return S,y,t,dS,dy,dt\n",
    "\n",
    "[k, theta, eta, y0] = [0.8113, 0.0491, -0.2497, -0.0282]\n",
    "[S0, sigma, rho] = [54.74407541, -0.546804  ,  0.09507821]\n",
    "r = 0.03"
   ]
  },
  {
   "cell_type": "markdown",
   "metadata": {},
   "source": [
    "# ATM European Call"
   ]
  },
  {
   "cell_type": "code",
   "execution_count": 411,
   "metadata": {},
   "outputs": [],
   "source": [
    "K_atmE = S0\n",
    "S,y,t,dS,dy,dt = Grid(Ti,Tj,3/12,timestep)\n",
    "g_atmE = np.maximum(S - K_atmE, 0)\n",
    "    \n",
    "a = 1/2 * sigma**2 * S\n",
    "b = S* (r - y)\n",
    "c = -r\n",
    "d = 1/2 * eta**2\n",
    "e = k * (theta - y)\n",
    "f = sigma * eta * S * rho\n",
    "\n",
    "A = (dt * f) / (4.0 * dS * dy)\n",
    "B = dt * a / dS**2 - (dt * b) / (2.0 * dS)\n",
    "C = - (dt * f) / (4.0 * dS * dy)\n",
    "D = dt * d / dy**2 - (dt * e) / (2.0 * dy)\n",
    "E = 1 - 2.0 * dt * a / dS**2 + dt * c - 2.0 * dt * d / dy**2\n",
    "F = dt * d / dy**2 + (dt * e) / (2.0 * dy)\n",
    "G = - (dt * f) / (4.0 * dS * dy)\n",
    "H = dt * a / dS**2 + (dt * b) / (2.0 * dS)\n",
    "I = (dt * f) / (4.0 * dS * dy)\n",
    "for m in range(timestep-1,-1,-1): \n",
    "    g_atmE[m,:,Tj-1] = np.maximum(S[m,:,Tj-1] * np.exp(-1*dt*(timestep-1-m)) - K_atmE * np.exp(-r*(timestep-1-m)),0)\n",
    "    g_atmE[m,:,0]    = np.maximum(S[m,:,Tj-1] - K_atmE * np.exp(-r*(timestep-1-m)),0)\n",
    "    for i,j in zip(range(1,Ti-1), range(1,Tj-1)): \n",
    "        g_atmE[m-1, i, j] = A[m, i, j] * g_atmE[m, i-1, j-1] + B[m, i, j] * g_atmE[m, i-1, j] + C[m, i, j] * g_atmE[m, i-1, j+1]\\\n",
    "        + D[m, i, j] * g_atmE[m, i, j-1] + E[m, i, j] * g_atmE[m, i, j] + F[m, i, j] * g_atmE[m, i, j+1]\\\n",
    "        + G[m, i, j] * g_atmE[m, i+1, j-1] + H[m, i, j] * g_atmE[m, i+1, j] + I[m, i, j] * g_atmE[m, i+1, j+1]"
   ]
  },
  {
   "cell_type": "code",
   "execution_count": 412,
   "metadata": {},
   "outputs": [
    {
     "data": {
      "text/plain": [
       "0.938931648100951"
      ]
     },
     "execution_count": 412,
     "metadata": {},
     "output_type": "execute_result"
    }
   ],
   "source": [
    "g_atmE[0, 100, 100]"
   ]
  },
  {
   "cell_type": "code",
   "execution_count": 413,
   "metadata": {},
   "outputs": [],
   "source": [
    "theta_atmE = (g_atmE[0, 100, 100] - g_atmE[1, 100, 100]) / dt\n",
    "delta_atmE_S = (g_atmE[1, 101, 100] - g_atmE[1, 99, 100]) / (2.0 * dS)\n",
    "gamma_atmE_S = (g_atmE[1, 101, 100] - 2.0 * g_atmE[1, 100, 100] + g_atmE[1, 99, 100]) / dS**2\n",
    "delta_atmE_y = (g_atmE[1, 100, 101] - g_atmE[1, 100, 99]) / (2.0 * dy)\n",
    "gamma_atmE_y = (g_atmE[1, 100, 101] - 2.0 * g_atmE[1, 100, 100] + g_atmE[1, 100, 99]) / dy**2"
   ]
  },
  {
   "cell_type": "code",
   "execution_count": 414,
   "metadata": {},
   "outputs": [
    {
     "data": {
      "text/plain": [
       "(0.0, 1.0049999999999983, -0.019593205132685233, 0.0, -60.7440771684228)"
      ]
     },
     "execution_count": 414,
     "metadata": {},
     "output_type": "execute_result"
    }
   ],
   "source": [
    "theta_atmE, delta_atmE_S, gamma_atmE_S, delta_atmE_y, gamma_atmE_y"
   ]
  },
  {
   "cell_type": "markdown",
   "metadata": {},
   "source": [
    "# 10% ITM European Call"
   ]
  },
  {
   "cell_type": "code",
   "execution_count": 415,
   "metadata": {},
   "outputs": [],
   "source": [
    "K_itmE = S0 * 0.9\n",
    "S,y,t,dS,dy,dt = Grid(Ti,Tj,3/12,timestep)\n",
    "g_itmE = np.maximum(S - K_itmE, 0)\n",
    "\n",
    "a = 1/2 * sigma**2 * S\n",
    "b = S* (r - y)\n",
    "c = -r\n",
    "d = 1/2 * eta**2\n",
    "e = k * (theta - y)\n",
    "f = sigma * eta * S * rho\n",
    "\n",
    "A = (dt * f) / (4.0 * dS * dy)\n",
    "B = dt * a / dS**2 - (dt * b) / (2.0 * dS)\n",
    "C = - (dt * f) / (4.0 * dS * dy)\n",
    "D = dt * d / dy**2 - (dt * e) / (2.0 * dy)\n",
    "E = 1 - 2.0 * dt * a / dS**2 + dt * c - 2.0 * dt * d / dy**2\n",
    "F = dt * d / dy**2 + (dt * e) / (2.0 * dy)\n",
    "G = - (dt * f) / (4.0 * dS * dy)\n",
    "H = dt * a / dS**2 + (dt * b) / (2.0 * dS)\n",
    "I = (dt * f) / (4.0 * dS * dy)\n",
    "for m in range(timestep-1,-1,-1): \n",
    "    g_itmE[m,:,Tj-1] = np.maximum(S[m,:,Tj-1] * np.exp(-1*dt*(timestep-1-m)) - K_itmE * np.exp(-r*(timestep-1-m)),0)\n",
    "    g_itmE[m,:,0]    = np.maximum(S[m,:,Tj-1] - K_itmE * np.exp(-r*(timestep-1-m)),0)\n",
    "    for i,j in zip(range(1,Ti-1), range(1,Tj-1)): \n",
    "        g_itmE[m-1, i, j] = A[m, i, j] * g_itmE[m, i-1, j-1] + B[m, i, j] * g_itmE[m, i-1, j] + C[m, i, j] * g_itmE[m, i-1, j+1]\\\n",
    "        + D[m, i, j] * g_itmE[m, i, j-1] + E[m, i, j] * g_itmE[m, i, j] + F[m, i, j] * g_itmE[m, i, j+1]\\\n",
    "        + G[m, i, j] * g_itmE[m, i+1, j-1] + H[m, i, j] * g_itmE[m, i+1, j] + I[m, i, j] * g_itmE[m, i+1, j+1]"
   ]
  },
  {
   "cell_type": "code",
   "execution_count": 416,
   "metadata": {},
   "outputs": [
    {
     "data": {
      "text/plain": [
       "6.412734613624319"
      ]
     },
     "execution_count": 416,
     "metadata": {},
     "output_type": "execute_result"
    }
   ],
   "source": [
    "g_itmE[0, 100, 100]"
   ]
  },
  {
   "cell_type": "code",
   "execution_count": 417,
   "metadata": {},
   "outputs": [],
   "source": [
    "theta_itmE = (g_itmE[0, 100, 100] - g_itmE[1, 100, 100]) / dt\n",
    "delta_itmE_S = (g_itmE[1, 101, 100] - g_itmE[1, 99, 100]) / (2.0 * dS)\n",
    "gamma_itmE_S = (g_atmE[1, 101, 100] - 2.0 * g_itmE[1, 100, 100] + g_itmE[1, 99, 100]) / dS**2\n",
    "delta_itmE_y = (g_itmE[1, 100, 101] - g_itmE[1, 100, 99]) / (2.0 * dy)\n",
    "gamma_itmE_y = (g_itmE[1, 100, 101] - 2.0 * g_itmE[1, 100, 100] + g_itmE[1, 100, 99]) / dy**2"
   ]
  },
  {
   "cell_type": "code",
   "execution_count": 418,
   "metadata": {},
   "outputs": [
    {
     "data": {
      "text/plain": [
       "(0.0, 1.0049999999999983, -17.850558751490816, 0.0, -48.53135025275718)"
      ]
     },
     "execution_count": 418,
     "metadata": {},
     "output_type": "execute_result"
    }
   ],
   "source": [
    "theta_itmE, delta_itmE_S, gamma_itmE_S, delta_itmE_y, gamma_itmE_y"
   ]
  },
  {
   "cell_type": "markdown",
   "metadata": {},
   "source": [
    "# 10% OTM European Call"
   ]
  },
  {
   "cell_type": "code",
   "execution_count": 419,
   "metadata": {},
   "outputs": [],
   "source": [
    "K_otmE = S0 * 1.1\n",
    "S,y,t,dS,dy,dt = Grid(Ti,Tj,3/12,timestep)\n",
    "g_otmE = np.maximum(S - K_otmE, 0)\n",
    "\n",
    "a = 1/2 * sigma**2 * S\n",
    "b = S* (r - y)\n",
    "c = -r\n",
    "d = 1/2 * eta**2\n",
    "e = k * (theta - y)\n",
    "f = sigma * eta * S * rho\n",
    "\n",
    "A = (dt * f) / (4.0 * dS * dy)\n",
    "B = dt * a / dS**2 - (dt * b) / (2.0 * dS)\n",
    "C = - (dt * f) / (4.0 * dS * dy)\n",
    "D = dt * d / dy**2 - (dt * e) / (2.0 * dy)\n",
    "E = 1 - 2.0 * dt * a / dS**2 + dt * c - 2.0 * dt * d / dy**2\n",
    "F = dt * d / dy**2 + (dt * e) / (2.0 * dy)\n",
    "G = - (dt * f) / (4.0 * dS * dy)\n",
    "H = dt * a / dS**2 + (dt * b) / (2.0 * dS)\n",
    "I = (dt * f) / (4.0 * dS * dy)\n",
    "for m in range(timestep-1,-1,-1): \n",
    "    g_otmE[m,:,Tj-1] = np.maximum(S[m,:,Tj-1] * np.exp(-1*dt*(timestep-1-m)) - K_otmE * np.exp(-r*(timestep-1-m)),0)\n",
    "    g_otmE[m,:,0]    = np.maximum(S[m,:,Tj-1] - K_otmE * np.exp(-r*(timestep-1-m)),0)\n",
    "    for i,j in zip(range(1,Ti-1), range(1,Tj-1)): \n",
    "        g_otmE[m-1, i, j] = A[m, i, j] * g_otmE[m, i-1, j-1] + B[m, i, j] * g_otmE[m, i-1, j] + C[m, i, j] * g_otmE[m, i-1, j+1]\\\n",
    "        + D[m, i, j] * g_otmE[m, i, j-1] + E[m, i, j] * g_otmE[m, i, j] + F[m, i, j] * g_otmE[m, i, j+1]\\\n",
    "        + G[m, i, j] * g_otmE[m, i+1, j-1] + H[m, i, j] * g_otmE[m, i+1, j] + I[m, i, j] * g_otmE[m, i+1, j+1]"
   ]
  },
  {
   "cell_type": "code",
   "execution_count": 420,
   "metadata": {},
   "outputs": [
    {
     "data": {
      "text/plain": [
       "6.657245079001103e-13"
      ]
     },
     "execution_count": 420,
     "metadata": {},
     "output_type": "execute_result"
    }
   ],
   "source": [
    "g_otmE[0, 100, 100]"
   ]
  },
  {
   "cell_type": "code",
   "execution_count": 421,
   "metadata": {},
   "outputs": [],
   "source": [
    "theta_otmE = (g_otmE[0, 100, 100] - g_otmE[1, 100, 100]) / dt\n",
    "delta_otmE_S = (g_otmE[1, 101, 100] - g_otmE[1, 99, 100]) / (2.0 * dS)\n",
    "gamma_otmE_S = (g_otmE[1, 101, 100] - 2.0 * g_otmE[1, 100, 100] + g_otmE[1, 99, 100]) / dS**2\n",
    "delta_otmE_y = (g_otmE[1, 100, 101] - g_otmE[1, 100, 99]) / (2.0 * dy)\n",
    "gamma_otmE_y = (g_otmE[1, 100, 101] - 2.0 * g_otmE[1, 100, 100] + g_otmE[1, 100, 99]) / dy**2"
   ]
  },
  {
   "cell_type": "code",
   "execution_count": 422,
   "metadata": {},
   "outputs": [
    {
     "data": {
      "text/plain": [
       "(0.0, 0.0, -4.3376870041181604e-12, 0.0, -1.3447967921836179e-08)"
      ]
     },
     "execution_count": 422,
     "metadata": {},
     "output_type": "execute_result"
    }
   ],
   "source": [
    "theta_otmE, delta_otmE_S, gamma_otmE_S, delta_otmE_y, gamma_otmE_y"
   ]
  },
  {
   "cell_type": "markdown",
   "metadata": {},
   "source": [
    "# ATM American Call"
   ]
  },
  {
   "cell_type": "code",
   "execution_count": 423,
   "metadata": {},
   "outputs": [],
   "source": [
    "K_atmA = S0\n",
    "S,y,t,dS,dy,dt = Grid(Ti,Tj,3/12,timestep)\n",
    "g_atmA = np.maximum(S - K_atmA, 0)\n",
    "\n",
    "a = 1/2 * sigma**2 * S\n",
    "b = S* (r - y)\n",
    "c = -r\n",
    "d = 1/2 * eta**2\n",
    "e = k * (theta - y)\n",
    "f = sigma * eta * S * rho\n",
    "\n",
    "A = (dt * f) / (4.0 * dS * dy)\n",
    "B = dt * a / dS**2 - (dt * b) / (2.0 * dS)\n",
    "C = - (dt * f) / (4.0 * dS * dy)\n",
    "D = dt * d / dy**2 - (dt * e) / (2.0 * dy)\n",
    "E = 1 - 2.0 * dt * a / dS**2 + dt * c - 2.0 * dt * d / dy**2\n",
    "F = dt * d / dy**2 + (dt * e) / (2.0 * dy)\n",
    "G = - (dt * f) / (4.0 * dS * dy)\n",
    "H = dt * a / dS**2 + (dt * b) / (2.0 * dS)\n",
    "I = (dt * f) / (4.0 * dS * dy)\n",
    "for m in range(timestep-1,-1,-1): \n",
    "    g_atmA[m,:,Tj-1] = np.maximum(S[m,:,Tj-1] * np.exp(-1*dt*(timestep-1-m)) - K_atmA * np.exp(-r*(timestep-1-m)),0)\n",
    "    g_atmA[m,:,0]    = np.maximum(S[m,:,Tj-1] - K_atmA * np.exp(-r*(timestep-1-m)),0)\n",
    "    for i,j in zip(range(1,Ti-1), range(1,Tj-1)): \n",
    "        g_atmA[m-1, i, j] = np.maximum(A[m, i, j] * g_atmA[m, i-1, j-1] + B[m, i, j] * g_atmA[m, i-1, j] + C[m, i, j] * g_atmA[m, i-1, j+1]\\\n",
    "        + D[m, i, j] * g_atmA[m, i, j-1] + E[m, i, j] * g_atmA[m, i, j] + F[m, i, j] * g_atmA[m, i, j+1]\\\n",
    "        + G[m, i, j] * g_atmA[m, i+1, j-1] + H[m, i, j] * g_atmA[m, i+1, j] + I[m, i, j] * g_atmA[m, i+1, j+1], S[m-1, i, j] - K_atmA)"
   ]
  },
  {
   "cell_type": "code",
   "execution_count": 424,
   "metadata": {},
   "outputs": [
    {
     "data": {
      "text/plain": [
       "0.9389316626192353"
      ]
     },
     "execution_count": 424,
     "metadata": {},
     "output_type": "execute_result"
    }
   ],
   "source": [
    "g_atmA[0, 100, 100]"
   ]
  },
  {
   "cell_type": "code",
   "execution_count": 425,
   "metadata": {},
   "outputs": [],
   "source": [
    "theta_atmA = (g_atmA[0, 100, 100] - g_atmA[1, 100, 100]) / dt\n",
    "delta_atmA_S = (g_atmA[1, 101, 100] - g_atmA[1, 99, 100]) / (2.0 * dS)\n",
    "gamma_atmA_S = (g_atmA[1, 101, 100] - 2.0 * g_atmA[1, 100, 100] + g_atmA[1, 99, 100]) / dS**2\n",
    "delta_atmA_y = (g_atmA[1, 100, 101] - g_atmA[1, 100, 99]) / (2.0 * dy)\n",
    "gamma_atmA_y = (g_atmA[1, 100, 101] - 2.0 * g_atmA[1, 100, 100] + g_atmA[1, 100, 99]) / dy**2"
   ]
  },
  {
   "cell_type": "code",
   "execution_count": 426,
   "metadata": {},
   "outputs": [
    {
     "data": {
      "text/plain": [
       "(0.0, 1.0049999999999983, -0.01959329973003385, 0.0, -60.744370445025865)"
      ]
     },
     "execution_count": 426,
     "metadata": {},
     "output_type": "execute_result"
    }
   ],
   "source": [
    "theta_atmA, delta_atmA_S, gamma_atmA_S, delta_atmA_y, gamma_atmA_y"
   ]
  },
  {
   "cell_type": "markdown",
   "metadata": {},
   "source": [
    "# 10% ITM American Call"
   ]
  },
  {
   "cell_type": "code",
   "execution_count": 427,
   "metadata": {},
   "outputs": [],
   "source": [
    "K_itmA = S0 * 0.9\n",
    "S,y,t,dS,dy,dt = Grid(Ti,Tj,3/12,timestep)\n",
    "g_itmA = np.maximum(S - K_itmA, 0)\n",
    "\n",
    "a = 1/2 * sigma**2 * S\n",
    "b = S* (r - y)\n",
    "c = -r\n",
    "d = 1/2 * eta**2\n",
    "e = k * (theta - y)\n",
    "f = sigma * eta * S * rho\n",
    "\n",
    "A = (dt * f) / (4.0 * dS * dy)\n",
    "B = dt * a / dS**2 - (dt * b) / (2.0 * dS)\n",
    "C = - (dt * f) / (4.0 * dS * dy)\n",
    "D = dt * d / dy**2 - (dt * e) / (2.0 * dy)\n",
    "E = 1 - 2.0 * dt * a / dS**2 + dt * c - 2.0 * dt * d / dy**2\n",
    "F = dt * d / dy**2 + (dt * e) / (2.0 * dy)\n",
    "G = - (dt * f) / (4.0 * dS * dy)\n",
    "H = dt * a / dS**2 + (dt * b) / (2.0 * dS)\n",
    "I = (dt * f) / (4.0 * dS * dy)\n",
    "for m in range(timestep-1,-1,-1): \n",
    "    g_itmA[m,:,Tj-1] = np.maximum(S[m,:,Tj-1] * np.exp(-1*dt*(timestep-1-m)) - K_itmA * np.exp(-r*(timestep-1-m)),0)\n",
    "    g_itmA[m,:,0]    = np.maximum(S[m,:,Tj-1] - K_itmA * np.exp(-r*(timestep-1-m)),0)\n",
    "    for i,j in zip(range(1,Ti-1), range(1,Tj-1)): \n",
    "        g_itmA[m-1, i, j] = np.maximum(A[m, i, j] * g_itmA[m, i-1, j-1] + B[m, i, j] * g_itmA[m, i-1, j] + C[m, i, j] * g_itmA[m, i-1, j+1]\\\n",
    "        + D[m, i, j] * g_itmA[m, i, j-1] + E[m, i, j] * g_itmA[m, i, j] + F[m, i, j] * g_itmA[m, i, j+1]\\\n",
    "        + G[m, i, j] * g_itmA[m, i+1, j-1] + H[m, i, j] * g_itmA[m, i+1, j] + I[m, i, j] * g_itmA[m, i+1, j+1], S[m-1, i, j] - K_itmA)"
   ]
  },
  {
   "cell_type": "code",
   "execution_count": 428,
   "metadata": {},
   "outputs": [
    {
     "data": {
      "text/plain": [
       "6.41273465841009"
      ]
     },
     "execution_count": 428,
     "metadata": {},
     "output_type": "execute_result"
    }
   ],
   "source": [
    "g_itmA[0, 100, 100]"
   ]
  },
  {
   "cell_type": "code",
   "execution_count": 429,
   "metadata": {},
   "outputs": [],
   "source": [
    "theta_itmA = (g_itmA[0, 100, 100] - g_itmA[1, 100, 100]) / dt\n",
    "delta_itmA_S = (g_itmA[1, 101, 100] - g_itmA[1, 99, 100]) / (2.0 * dS)\n",
    "gamma_itmA_S = (g_atmA[1, 101, 100] - 2.0 * g_itmA[1, 100, 100] + g_itmA[1, 99, 100]) / dS**2\n",
    "delta_itmA_y = (g_itmA[1, 100, 101] - g_itmA[1, 100, 99]) / (2.0 * dy)\n",
    "gamma_itmA_y = (g_itmA[1, 100, 101] - 2.0 * g_itmA[1, 100, 100] + g_itmA[1, 100, 99]) / dy**2"
   ]
  },
  {
   "cell_type": "code",
   "execution_count": 430,
   "metadata": {},
   "outputs": [
    {
     "data": {
      "text/plain": [
       "(0.0, 1.0049999999999983, -17.850559043303203, 0.0, -48.53225494773508)"
      ]
     },
     "execution_count": 430,
     "metadata": {},
     "output_type": "execute_result"
    }
   ],
   "source": [
    "theta_itmA, delta_itmA_S, gamma_itmA_S, delta_itmA_y, gamma_itmA_y"
   ]
  },
  {
   "cell_type": "markdown",
   "metadata": {},
   "source": [
    "# 10% OTM American Call"
   ]
  },
  {
   "cell_type": "code",
   "execution_count": 431,
   "metadata": {},
   "outputs": [],
   "source": [
    "K_otmA = S0 * 1.1\n",
    "S,y,t,dS,dy,dt = Grid(Ti,Tj,3/12,timestep)\n",
    "g_otmA = np.maximum(S - K_otmA, 0)\n",
    "\n",
    "a = 1/2 * sigma**2 * S\n",
    "b = S* (r - y)\n",
    "c = -r\n",
    "d = 1/2 * eta**2\n",
    "e = k * (theta - y)\n",
    "f = sigma * eta * S * rho\n",
    "\n",
    "A = (dt * f) / (4.0 * dS * dy)\n",
    "B = dt * a / dS**2 - (dt * b) / (2.0 * dS)\n",
    "C = - (dt * f) / (4.0 * dS * dy)\n",
    "D = dt * d / dy**2 - (dt * e) / (2.0 * dy)\n",
    "E = 1 - 2.0 * dt * a / dS**2 + dt * c - 2.0 * dt * d / dy**2\n",
    "F = dt * d / dy**2 + (dt * e) / (2.0 * dy)\n",
    "G = - (dt * f) / (4.0 * dS * dy)\n",
    "H = dt * a / dS**2 + (dt * b) / (2.0 * dS)\n",
    "I = (dt * f) / (4.0 * dS * dy)\n",
    "    \n",
    "for m in range(timestep-1,-1,-1): \n",
    "    g_otmA[m,:,Tj-1] = np.maximum(S[m,:,Tj-1] * np.exp(-1*dt*(timestep-1-m)) - K_otmA * np.exp(-r*(timestep-1-m)),0)\n",
    "    g_otmA[m,:,0]    = np.maximum(S[m,:,Tj-1] - K_otmA * np.exp(-r*(timestep-1-m)),0)\n",
    "    for i,j in zip(range(1,Ti-1), range(1,Tj-1)): \n",
    "        g_otmA[m-1, i, j] = np.maximum(A[m, i, j] * g_otmA[m, i-1, j-1] + B[m, i, j] * g_otmA[m, i-1, j] + C[m, i, j] * g_otmA[m, i-1, j+1]\\\n",
    "        + D[m, i, j] * g_otmA[m, i, j-1] + E[m, i, j] * g_otmA[m, i, j] + F[m, i, j] * g_otmA[m, i, j+1]\\\n",
    "        + G[m, i, j] * g_otmA[m, i+1, j-1] + H[m, i, j] * g_otmA[m, i+1, j] + I[m, i, j] * g_otmA[m, i+1, j+1], S[m-1, i, j] - K_otmA)"
   ]
  },
  {
   "cell_type": "code",
   "execution_count": 432,
   "metadata": {},
   "outputs": [
    {
     "data": {
      "text/plain": [
       "6.670919701938952e-13"
      ]
     },
     "execution_count": 432,
     "metadata": {},
     "output_type": "execute_result"
    }
   ],
   "source": [
    "g_otmA[0, 100, 100]"
   ]
  },
  {
   "cell_type": "code",
   "execution_count": 433,
   "metadata": {},
   "outputs": [],
   "source": [
    "theta_otmA = (g_otmA[0, 100, 100] - g_otmA[1, 100, 100]) / dt\n",
    "delta_otmA_S = (g_otmA[1, 101, 100] - g_otmA[1, 99, 100]) / (2.0 * dS)\n",
    "gamma_otmA_S = (g_otmA[1, 101, 100] - 2.0 * g_otmA[1, 100, 100] + g_otmA[1, 99, 100]) / dS**2\n",
    "delta_otmA_y = (g_otmA[1, 100, 101] - g_otmA[1, 100, 99]) / (2.0 * dy)\n",
    "gamma_otmA_y = (g_otmA[1, 100, 101] - 2.0 * g_otmA[1, 100, 100] + g_otmA[1, 100, 99]) / dy**2"
   ]
  },
  {
   "cell_type": "code",
   "execution_count": 434,
   "metadata": {},
   "outputs": [
    {
     "data": {
      "text/plain": [
       "(0.0, 0.0, -4.346597031238963e-12, 0.0, -1.347559134390178e-08)"
      ]
     },
     "execution_count": 434,
     "metadata": {},
     "output_type": "execute_result"
    }
   ],
   "source": [
    "theta_otmA, delta_otmA_S, gamma_otmA_S, delta_otmA_y, gamma_otmA_y"
   ]
  },
  {
   "cell_type": "code",
   "execution_count": null,
   "metadata": {},
   "outputs": [],
   "source": []
  },
  {
   "cell_type": "code",
   "execution_count": null,
   "metadata": {},
   "outputs": [],
   "source": []
  }
 ],
 "metadata": {
  "kernelspec": {
   "display_name": "Python 3",
   "language": "python",
   "name": "python3"
  },
  "language_info": {
   "codemirror_mode": {
    "name": "ipython",
    "version": 3
   },
   "file_extension": ".py",
   "mimetype": "text/x-python",
   "name": "python",
   "nbconvert_exporter": "python",
   "pygments_lexer": "ipython3",
   "version": "3.7.3"
  }
 },
 "nbformat": 4,
 "nbformat_minor": 2
}
