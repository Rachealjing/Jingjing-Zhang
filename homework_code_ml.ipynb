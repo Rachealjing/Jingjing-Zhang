{
 "cells": [
  {
   "cell_type": "code",
   "execution_count": 1,
   "metadata": {},
   "outputs": [],
   "source": [
    "import pandas as pd\n",
    "import numpy as np\n",
    "import matplotlib.pyplot as plt\n",
    "from sklearn.model_selection import train_test_split\n",
    "from sklearn.metrics import mean_squared_error"
   ]
  },
  {
   "cell_type": "code",
   "execution_count": 2,
   "metadata": {},
   "outputs": [],
   "source": [
    "origindata = pd.read_csv(\"wine.data\", header = None)\n",
    "origindata.columns = ['Class','Alcohol','Malic acid','Ash','Alcalinity of ash','Magnesium','Total phenols','Flavanoids',\n",
    "                            'Nonflavanoid phenols','Proanthocyanins','Color intensity','Hue','OD280/OD315 of diluted wines','Proline']\n",
    "\n",
    "y = origindata['Class']\n",
    "X = origindata.drop(columns=['Class'])"
   ]
  },
  {
   "cell_type": "code",
   "execution_count": 3,
   "metadata": {
    "scrolled": false
   },
   "outputs": [],
   "source": [
    "# split data\n",
    "X_train, X_test, y_train, y_test = train_test_split(X, y, shuffle=True, test_size=0.2, random_state=1234)"
   ]
  },
  {
   "cell_type": "markdown",
   "metadata": {},
   "source": [
    "# build the model"
   ]
  },
  {
   "cell_type": "code",
   "execution_count": 4,
   "metadata": {},
   "outputs": [
    {
     "name": "stdout",
     "output_type": "stream",
     "text": [
      "training error of MultinomialNB model:  0.11267605633802817\n",
      "test error of MultinomialNB model:  0.25\n"
     ]
    }
   ],
   "source": [
    "# multinomialNB model\n",
    "from sklearn.naive_bayes import MultinomialNB\n",
    "mNB = MultinomialNB()\n",
    "mNB.fit(X_train, y_train)\n",
    "MultinomialNB(alpha=1.0, class_prior=None, fit_prior=True)\n",
    "y_train_mNBpre = mNB.predict(X_train)\n",
    "y_test_mNBpre = mNB.predict(X_test)\n",
    "print('training error of MultinomialNB model: ',mean_squared_error(y_train,y_train_mNBpre))\n",
    "print('test error of MultinomialNB model: ',mean_squared_error(y_test,y_test_mNBpre))"
   ]
  },
  {
   "cell_type": "code",
   "execution_count": 5,
   "metadata": {},
   "outputs": [
    {
     "name": "stdout",
     "output_type": "stream",
     "text": [
      "training error of GaussianNB model:  0.0\n",
      "test error of GaussianNB model:  0.1111111111111111\n"
     ]
    }
   ],
   "source": [
    "# GaussianNB model\n",
    "from sklearn.naive_bayes import GaussianNB\n",
    "GNB = GaussianNB()\n",
    "GNB.fit(X_train, y_train)\n",
    "GaussianNB(priors=None, var_smoothing=1e-09)\n",
    "y_train_GNBpre = GNB.predict(X_train)\n",
    "y_test_GNBpre = GNB.predict(X_test)\n",
    "print('training error of GaussianNB model: ',mean_squared_error(y_train,y_train_GNBpre))\n",
    "print('test error of GaussianNB model: ',mean_squared_error(y_test,y_test_GNBpre))"
   ]
  },
  {
   "cell_type": "code",
   "execution_count": 6,
   "metadata": {},
   "outputs": [
    {
     "name": "stdout",
     "output_type": "stream",
     "text": [
      "training error of GaussianNB(log) model:  0.007042253521126761\n",
      "test error of GaussianNB(log) model:  0.027777777777777776\n"
     ]
    }
   ],
   "source": [
    "# GaussianNB(log) model\n",
    "GNBlog = GaussianNB()\n",
    "GNBlog.fit(np.log(X_train), y_train)\n",
    "GaussianNB(priors=None, var_smoothing=1e-09)\n",
    "y_train_GNBlogpre = GNBlog.predict(np.log(X_train))\n",
    "y_test_GNBlogpre = GNBlog.predict(np.log(X_test))\n",
    "print('training error of GaussianNB(log) model: ',mean_squared_error(y_train,y_train_GNBlogpre))\n",
    "print('test error of GaussianNB(log) model: ',mean_squared_error(y_test,y_test_GNBlogpre))"
   ]
  },
  {
   "cell_type": "code",
   "execution_count": 7,
   "metadata": {},
   "outputs": [
    {
     "name": "stdout",
     "output_type": "stream",
     "text": [
      "the most useful feature:  Flavanoids\n"
     ]
    }
   ],
   "source": [
    "#2.b.4 feature importance\n",
    "#method 1\n",
    "from sklearn import linear_model\n",
    "regress = linear_model.Lasso(alpha=0.1)\n",
    "regress.fit(X, y)\n",
    "fea_import1 = pd.DataFrame(np.abs(regress.coef_))\n",
    "m1 = fea_import1[0].idxmax()\n",
    "print('the most useful feature: ',X.columns.values.tolist()[m1])"
   ]
  },
  {
   "cell_type": "code",
   "execution_count": 8,
   "metadata": {},
   "outputs": [
    {
     "name": "stdout",
     "output_type": "stream",
     "text": [
      "The most important feature in MultinomialNB model is:  Flavanoids\n"
     ]
    }
   ],
   "source": [
    "#method 2\n",
    "col = ['Alcohol','Malic acid','Ash','Alcalinity of ash','Magnesium','Total phenols','Flavanoids',\n",
    "                            'Nonflavanoid phenols','Proanthocyanins','Color intensity','Hue','OD280/OD315 of diluted wines','Proline']\n",
    "\n",
    "f_m = list()\n",
    "for i in col:\n",
    "    inp = pd.DataFrame(X)\n",
    "    inp = inp.drop(columns=[i])\n",
    "    mNB.fit(inp, y)\n",
    "    f_m.append(mean_squared_error(y, mNB.predict(inp)) / mean_squared_error(y_test,y_test_mNBpre))\n",
    "f_m_ind = f_m.index(max(f_m))\n",
    "print('The most important feature in MultinomialNB model is: ',col[f_m_ind])"
   ]
  },
  {
   "cell_type": "code",
   "execution_count": 9,
   "metadata": {},
   "outputs": [
    {
     "name": "stdout",
     "output_type": "stream",
     "text": [
      "The most important feature in GaussianNB model is:  Proline\n"
     ]
    }
   ],
   "source": [
    "f_g = list()\n",
    "for i in col:\n",
    "    inp = pd.DataFrame(X)\n",
    "    inp = inp.drop(columns=[i])\n",
    "    GNB.fit(inp, y)\n",
    "    f_g.append(mean_squared_error(y, GNB.predict(inp)) / mean_squared_error(y_test,y_test_GNBpre))\n",
    "f_g_ind = f_g.index(max(f_g))\n",
    "print('The most important feature in GaussianNB model is: ',col[f_g_ind])"
   ]
  },
  {
   "cell_type": "code",
   "execution_count": 10,
   "metadata": {},
   "outputs": [
    {
     "name": "stdout",
     "output_type": "stream",
     "text": [
      "The most important feature in GaussianNB(log) model is:  Proline\n"
     ]
    }
   ],
   "source": [
    "f_glog = list()\n",
    "for i in col:\n",
    "    inp = pd.DataFrame(X)\n",
    "    inp = inp.drop(columns=[i])\n",
    "    GNBlog.fit(inp, y)\n",
    "    f_glog.append(mean_squared_error(y, GNBlog.predict(inp)) / mean_squared_error(y_test,y_test_GNBlogpre))\n",
    "f_glog_ind = f_glog.index(max(f_glog))\n",
    "print('The most important feature in GaussianNB(log) model is: ',col[f_glog_ind])"
   ]
  },
  {
   "cell_type": "markdown",
   "metadata": {},
   "source": [
    "# neural network model"
   ]
  },
  {
   "cell_type": "code",
   "execution_count": 11,
   "metadata": {},
   "outputs": [],
   "source": [
    "# 2.c neural network and tune hyper-parameter\n",
    "\n",
    "alpha_test = np.logspace(1e-2,10,100)\n",
    "train_errors1 = list()\n",
    "test_errors1 = list()\n",
    "\n",
    "# solver = 'lbfgs'\n",
    "from sklearn.neural_network import MLPClassifier\n",
    "for a in alpha_test:\n",
    "    neu_net1 = MLPClassifier(solver='lbfgs', alpha=a, hidden_layer_sizes=(15,), random_state=1)\n",
    "    neu_net1.fit(X_train, y_train)\n",
    "    MLPClassifier(activation='relu', batch_size='auto',\n",
    "              beta_1=0.9, beta_2=0.9, early_stopping=False,\n",
    "              epsilon=1e-08, hidden_layer_sizes=(15,),\n",
    "              learning_rate='constant', learning_rate_init=0.001,\n",
    "              max_iter=200, momentum=0.9, n_iter_no_change=10,\n",
    "              nesterovs_momentum=True, power_t=0.5,  random_state=1,\n",
    "              shuffle=True, solver='lbfgs', tol=0.0001,\n",
    "              validation_fraction=0.1, verbose=False, warm_start=False)\n",
    "    y_train_net = neu_net1.predict(X_train)\n",
    "    y_test_net = neu_net1.predict(X_test)\n",
    "    train_errors1.append(mean_squared_error(y_train,y_train_net))\n",
    "    test_errors1.append(mean_squared_error(y_test,y_test_net))\n",
    "min_te1 = min(test_errors1)\n",
    "min_te1_ind = test_errors1.index(min(test_errors1))\n",
    "alpha1 = alpha_test[min_te1_ind]"
   ]
  },
  {
   "cell_type": "code",
   "execution_count": 12,
   "metadata": {},
   "outputs": [
    {
     "name": "stdout",
     "output_type": "stream",
     "text": [
      "17708.501728257103 0.5277777777777778\n"
     ]
    }
   ],
   "source": [
    "print(alpha1, min_te1)"
   ]
  },
  {
   "cell_type": "code",
   "execution_count": null,
   "metadata": {},
   "outputs": [],
   "source": [
    "#solver = 'adam'\n",
    "train_errors2 = list()\n",
    "test_errors2 = list()\n",
    "for a in alpha_test:\n",
    "    neu_net2 = MLPClassifier(solver='adam', alpha=a, hidden_layer_sizes=(15,), random_state=1)\n",
    "    neu_net2.fit(X_train, y_train)\n",
    "    MLPClassifier(activation='relu', batch_size='auto',\n",
    "              beta_1=0.9, beta_2=0.9, early_stopping=False,\n",
    "              epsilon=1e-08, hidden_layer_sizes=(15,),\n",
    "              learning_rate='constant', learning_rate_init=0.001,\n",
    "              max_iter=200, momentum=0.9, n_iter_no_change=10,\n",
    "              nesterovs_momentum=True, power_t=0.5,  random_state=1,\n",
    "              shuffle=True, solver='lbfgs', tol=0.0001,\n",
    "              validation_fraction=0.1, verbose=False, warm_start=False)\n",
    "    y_train_net = neu_net2.predict(X_train)\n",
    "    y_test_net = neu_net2.predict(X_test)\n",
    "    train_errors2.append(mean_squared_error(y_train,y_train_net))\n",
    "    test_errors2.append(mean_squared_error(y_test,y_test_net))\n",
    "min_te2 = min(test_errors2)\n",
    "min_te2_ind = test_errors2.index(min(test_errors2))\n",
    "alpha2 = alpha_test[min_te2_ind]"
   ]
  },
  {
   "cell_type": "code",
   "execution_count": 14,
   "metadata": {},
   "outputs": [
    {
     "name": "stdout",
     "output_type": "stream",
     "text": [
      "228129.69412584268 1.25\n"
     ]
    }
   ],
   "source": [
    "print(alpha2, min_te2)"
   ]
  },
  {
   "cell_type": "code",
   "execution_count": null,
   "metadata": {},
   "outputs": [],
   "source": [
    "#solver = 'sgd'\n",
    "train_errors3 = list()\n",
    "test_errors3 = list()\n",
    "for a in alpha_test:\n",
    "    neu_net3 = MLPClassifier(solver='sgd', alpha=a, hidden_layer_sizes=(15,), random_state=1)\n",
    "    neu_net3.fit(X_train, y_train)\n",
    "    MLPClassifier(activation='relu', batch_size='auto',\n",
    "              beta_1=0.9, beta_2=0.9, early_stopping=False,\n",
    "              epsilon=1e-08, hidden_layer_sizes=(15,),\n",
    "              learning_rate='constant', learning_rate_init=0.001,\n",
    "              max_iter=200, momentum=0.9, n_iter_no_change=10,\n",
    "              nesterovs_momentum=True, power_t=0.5,  random_state=1,\n",
    "              shuffle=True, solver='lbfgs', tol=0.0001,\n",
    "              validation_fraction=0.1, verbose=False, warm_start=False)\n",
    "    y_train_net = neu_net3.predict(X_train)\n",
    "    y_test_net = neu_net3.predict(X_test)\n",
    "    train_errors3.append(mean_squared_error(y_train,y_train_net))\n",
    "    test_errors3.append(mean_squared_error(y_test,y_test_net))\n",
    "min_te3 = min(test_errors3)\n",
    "min_te3_ind = test_errors3.index(min(test_errors3))\n",
    "alpha3 = alpha_test[min_te3_ind]"
   ]
  },
  {
   "cell_type": "code",
   "execution_count": 16,
   "metadata": {},
   "outputs": [
    {
     "name": "stdout",
     "output_type": "stream",
     "text": [
      "1.023292992280754 1.4722222222222223\n"
     ]
    }
   ],
   "source": [
    "print(alpha3, min_te3)"
   ]
  },
  {
   "cell_type": "code",
   "execution_count": 17,
   "metadata": {},
   "outputs": [
    {
     "name": "stdout",
     "output_type": "stream",
     "text": [
      "training error of neural network model:  0.6197183098591549\n",
      "test error of neural network model:  0.5277777777777778\n"
     ]
    }
   ],
   "source": [
    "# errors with the best alpha and solver\n",
    "neu_net = MLPClassifier(solver='lbfgs', alpha=alpha1, hidden_layer_sizes=(15,), random_state=1)\n",
    "neu_net.fit(X_train, y_train)\n",
    "MLPClassifier(activation='relu', batch_size='auto',\n",
    "              beta_1=0.9, beta_2=0.9, early_stopping=False,\n",
    "              epsilon=1e-08, hidden_layer_sizes=(15,),\n",
    "              learning_rate='constant', learning_rate_init=0.001,\n",
    "              max_iter=200, momentum=0.9, n_iter_no_change=10,\n",
    "              nesterovs_momentum=True, power_t=0.5,  random_state=1,\n",
    "              shuffle=True, solver='lbfgs', tol=0.0001,\n",
    "              validation_fraction=0.1, verbose=False, warm_start=False)\n",
    "y_train_net = neu_net.predict(X_train)\n",
    "y_test_net = neu_net.predict(X_test)\n",
    "print('training error of neural network model: ',mean_squared_error(y_train,y_train_net))\n",
    "print('test error of neural network model: ',mean_squared_error(y_test,y_test_net))"
   ]
  },
  {
   "cell_type": "code",
   "execution_count": 18,
   "metadata": {},
   "outputs": [
    {
     "name": "stdout",
     "output_type": "stream",
     "text": [
      "The most important feature in neural network model is:  OD280/OD315 of diluted wines\n"
     ]
    }
   ],
   "source": [
    "# feature importance\n",
    "f_n = list()\n",
    "for i in col:\n",
    "    inp = pd.DataFrame(X)\n",
    "    inp = inp.drop(columns=[i])\n",
    "    neu_net.fit(inp, y)\n",
    "    f_n.append(mean_squared_error(y, neu_net.predict(inp)) / mean_squared_error(y_test,y_test_net))\n",
    "f_n_ind = f_n.index(max(f_n))\n",
    "print('The most important feature in neural network model is: ',col[f_n_ind])"
   ]
  }
 ],
 "metadata": {
  "kernelspec": {
   "display_name": "Python 3",
   "language": "python",
   "name": "python3"
  },
  "language_info": {
   "codemirror_mode": {
    "name": "ipython",
    "version": 3
   },
   "file_extension": ".py",
   "mimetype": "text/x-python",
   "name": "python",
   "nbconvert_exporter": "python",
   "pygments_lexer": "ipython3",
   "version": "3.7.3"
  }
 },
 "nbformat": 4,
 "nbformat_minor": 2
}
